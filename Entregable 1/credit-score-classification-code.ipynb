{
 "cells": [
  {
   "cell_type": "markdown",
   "id": "46c1f9c3",
   "metadata": {
    "papermill": {
     "duration": 0.012699,
     "end_time": "2023-10-12T13:26:30.059532",
     "exception": false,
     "start_time": "2023-10-12T13:26:30.046833",
     "status": "completed"
    },
    "tags": []
   },
   "source": [
    "# Imports"
   ]
  },
  {
   "cell_type": "code",
   "execution_count": 2,
   "id": "874ae0db",
   "metadata": {
    "_cell_guid": "b1076dfc-b9ad-4769-8c92-a6c4dae69d19",
    "_uuid": "8f2839f25d086af736a60e9eeb907d3b93b6e0e5",
    "execution": {
     "iopub.execute_input": "2023-10-12T13:26:30.082092Z",
     "iopub.status.busy": "2023-10-12T13:26:30.081731Z",
     "iopub.status.idle": "2023-10-12T13:26:31.916329Z",
     "shell.execute_reply": "2023-10-12T13:26:31.915522Z"
    },
    "papermill": {
     "duration": 1.848631,
     "end_time": "2023-10-12T13:26:31.918768",
     "exception": false,
     "start_time": "2023-10-12T13:26:30.070137",
     "status": "completed"
    },
    "tags": []
   },
   "outputs": [],
   "source": [
    "import pandas as pd\n",
    "import matplotlib.pyplot as plt\n",
    "import seaborn as sns\n",
    "\n",
    "# pd.set_option('display.max_rows', 500)\n",
    "pd.set_option('display.max_columns', 500)\n",
    "pd.set_option('display.width', 1000)"
   ]
  },
  {
   "cell_type": "markdown",
   "id": "c496376d",
   "metadata": {
    "papermill": {
     "duration": 0.010012,
     "end_time": "2023-10-12T13:26:31.939675",
     "exception": false,
     "start_time": "2023-10-12T13:26:31.929663",
     "status": "completed"
    },
    "tags": []
   },
   "source": [
    "# Data Input"
   ]
  },
  {
   "cell_type": "code",
   "execution_count": 3,
   "id": "d4bbc914",
   "metadata": {
    "execution": {
     "iopub.execute_input": "2023-10-12T13:26:31.962471Z",
     "iopub.status.busy": "2023-10-12T13:26:31.961656Z",
     "iopub.status.idle": "2023-10-12T13:26:32.851330Z",
     "shell.execute_reply": "2023-10-12T13:26:32.850226Z"
    },
    "papermill": {
     "duration": 0.903417,
     "end_time": "2023-10-12T13:26:32.853420",
     "exception": false,
     "start_time": "2023-10-12T13:26:31.950003",
     "status": "completed"
    },
    "tags": []
   },
   "outputs": [
    {
     "data": {
      "text/html": [
       "<div>\n",
       "<style scoped>\n",
       "    .dataframe tbody tr th:only-of-type {\n",
       "        vertical-align: middle;\n",
       "    }\n",
       "\n",
       "    .dataframe tbody tr th {\n",
       "        vertical-align: top;\n",
       "    }\n",
       "\n",
       "    .dataframe thead th {\n",
       "        text-align: right;\n",
       "    }\n",
       "</style>\n",
       "<table border=\"1\" class=\"dataframe\">\n",
       "  <thead>\n",
       "    <tr style=\"text-align: right;\">\n",
       "      <th></th>\n",
       "      <th>ID</th>\n",
       "      <th>Customer_ID</th>\n",
       "      <th>Month</th>\n",
       "      <th>Name</th>\n",
       "      <th>Age</th>\n",
       "      <th>SSN</th>\n",
       "      <th>Occupation</th>\n",
       "      <th>Annual_Income</th>\n",
       "      <th>Monthly_Inhand_Salary</th>\n",
       "      <th>Num_Bank_Accounts</th>\n",
       "      <th>Num_Credit_Card</th>\n",
       "      <th>Interest_Rate</th>\n",
       "      <th>Num_of_Loan</th>\n",
       "      <th>Type_of_Loan</th>\n",
       "      <th>Delay_from_due_date</th>\n",
       "      <th>Num_of_Delayed_Payment</th>\n",
       "      <th>Changed_Credit_Limit</th>\n",
       "      <th>Num_Credit_Inquiries</th>\n",
       "      <th>Credit_Mix</th>\n",
       "      <th>Outstanding_Debt</th>\n",
       "      <th>Credit_Utilization_Ratio</th>\n",
       "      <th>Credit_History_Age</th>\n",
       "      <th>Payment_of_Min_Amount</th>\n",
       "      <th>Total_EMI_per_month</th>\n",
       "      <th>Amount_invested_monthly</th>\n",
       "      <th>Payment_Behaviour</th>\n",
       "      <th>Monthly_Balance</th>\n",
       "      <th>Credit_Score</th>\n",
       "    </tr>\n",
       "  </thead>\n",
       "  <tbody>\n",
       "    <tr>\n",
       "      <th>0</th>\n",
       "      <td>5634</td>\n",
       "      <td>3392</td>\n",
       "      <td>1</td>\n",
       "      <td>Aaron Maashoh</td>\n",
       "      <td>23.0</td>\n",
       "      <td>821000265.0</td>\n",
       "      <td>Scientist</td>\n",
       "      <td>19114.12</td>\n",
       "      <td>1824.843333</td>\n",
       "      <td>3.0</td>\n",
       "      <td>4.0</td>\n",
       "      <td>3.0</td>\n",
       "      <td>4.0</td>\n",
       "      <td>auto loan,credit-builder loan,personal loan,ho...</td>\n",
       "      <td>3.0</td>\n",
       "      <td>7.0</td>\n",
       "      <td>11.27</td>\n",
       "      <td>4.0</td>\n",
       "      <td>Good</td>\n",
       "      <td>809.98</td>\n",
       "      <td>26.822620</td>\n",
       "      <td>265.0</td>\n",
       "      <td>No</td>\n",
       "      <td>49.574949</td>\n",
       "      <td>21.46538</td>\n",
       "      <td>High_spent_Small_value_payments</td>\n",
       "      <td>312.494089</td>\n",
       "      <td>Good</td>\n",
       "    </tr>\n",
       "    <tr>\n",
       "      <th>1</th>\n",
       "      <td>5635</td>\n",
       "      <td>3392</td>\n",
       "      <td>2</td>\n",
       "      <td>Aaron Maashoh</td>\n",
       "      <td>23.0</td>\n",
       "      <td>821000265.0</td>\n",
       "      <td>Scientist</td>\n",
       "      <td>19114.12</td>\n",
       "      <td>1824.843333</td>\n",
       "      <td>3.0</td>\n",
       "      <td>4.0</td>\n",
       "      <td>3.0</td>\n",
       "      <td>4.0</td>\n",
       "      <td>auto loan,credit-builder loan,personal loan,ho...</td>\n",
       "      <td>3.0</td>\n",
       "      <td>4.0</td>\n",
       "      <td>11.27</td>\n",
       "      <td>4.0</td>\n",
       "      <td>Good</td>\n",
       "      <td>809.98</td>\n",
       "      <td>31.944960</td>\n",
       "      <td>266.0</td>\n",
       "      <td>No</td>\n",
       "      <td>49.574949</td>\n",
       "      <td>21.46538</td>\n",
       "      <td>Low_spent_Large_value_payments</td>\n",
       "      <td>284.629162</td>\n",
       "      <td>Good</td>\n",
       "    </tr>\n",
       "    <tr>\n",
       "      <th>2</th>\n",
       "      <td>5636</td>\n",
       "      <td>3392</td>\n",
       "      <td>3</td>\n",
       "      <td>Aaron Maashoh</td>\n",
       "      <td>23.0</td>\n",
       "      <td>821000265.0</td>\n",
       "      <td>Scientist</td>\n",
       "      <td>19114.12</td>\n",
       "      <td>1824.843333</td>\n",
       "      <td>3.0</td>\n",
       "      <td>4.0</td>\n",
       "      <td>3.0</td>\n",
       "      <td>4.0</td>\n",
       "      <td>auto loan,credit-builder loan,personal loan,ho...</td>\n",
       "      <td>3.0</td>\n",
       "      <td>7.0</td>\n",
       "      <td>11.27</td>\n",
       "      <td>4.0</td>\n",
       "      <td>Good</td>\n",
       "      <td>809.98</td>\n",
       "      <td>28.609352</td>\n",
       "      <td>267.0</td>\n",
       "      <td>No</td>\n",
       "      <td>49.574949</td>\n",
       "      <td>21.46538</td>\n",
       "      <td>Low_spent_Medium_value_payments</td>\n",
       "      <td>331.209863</td>\n",
       "      <td>Good</td>\n",
       "    </tr>\n",
       "    <tr>\n",
       "      <th>3</th>\n",
       "      <td>5637</td>\n",
       "      <td>3392</td>\n",
       "      <td>4</td>\n",
       "      <td>Aaron Maashoh</td>\n",
       "      <td>23.0</td>\n",
       "      <td>821000265.0</td>\n",
       "      <td>Scientist</td>\n",
       "      <td>19114.12</td>\n",
       "      <td>1824.843333</td>\n",
       "      <td>3.0</td>\n",
       "      <td>4.0</td>\n",
       "      <td>3.0</td>\n",
       "      <td>4.0</td>\n",
       "      <td>auto loan,credit-builder loan,personal loan,ho...</td>\n",
       "      <td>5.0</td>\n",
       "      <td>4.0</td>\n",
       "      <td>6.27</td>\n",
       "      <td>4.0</td>\n",
       "      <td>Good</td>\n",
       "      <td>809.98</td>\n",
       "      <td>31.377862</td>\n",
       "      <td>268.0</td>\n",
       "      <td>No</td>\n",
       "      <td>49.574949</td>\n",
       "      <td>21.46538</td>\n",
       "      <td>Low_spent_Small_value_payments</td>\n",
       "      <td>223.451310</td>\n",
       "      <td>Good</td>\n",
       "    </tr>\n",
       "    <tr>\n",
       "      <th>4</th>\n",
       "      <td>5638</td>\n",
       "      <td>3392</td>\n",
       "      <td>5</td>\n",
       "      <td>Aaron Maashoh</td>\n",
       "      <td>23.0</td>\n",
       "      <td>821000265.0</td>\n",
       "      <td>Scientist</td>\n",
       "      <td>19114.12</td>\n",
       "      <td>1824.843333</td>\n",
       "      <td>3.0</td>\n",
       "      <td>4.0</td>\n",
       "      <td>3.0</td>\n",
       "      <td>4.0</td>\n",
       "      <td>auto loan,credit-builder loan,personal loan,ho...</td>\n",
       "      <td>6.0</td>\n",
       "      <td>4.0</td>\n",
       "      <td>11.27</td>\n",
       "      <td>4.0</td>\n",
       "      <td>Good</td>\n",
       "      <td>809.98</td>\n",
       "      <td>24.797347</td>\n",
       "      <td>269.0</td>\n",
       "      <td>No</td>\n",
       "      <td>49.574949</td>\n",
       "      <td>21.46538</td>\n",
       "      <td>High_spent_Medium_value_payments</td>\n",
       "      <td>341.489231</td>\n",
       "      <td>Good</td>\n",
       "    </tr>\n",
       "  </tbody>\n",
       "</table>\n",
       "</div>"
      ],
      "text/plain": [
       "     ID  Customer_ID  Month           Name   Age          SSN Occupation  Annual_Income  Monthly_Inhand_Salary  Num_Bank_Accounts  Num_Credit_Card  Interest_Rate  Num_of_Loan                                       Type_of_Loan  Delay_from_due_date  Num_of_Delayed_Payment  Changed_Credit_Limit  Num_Credit_Inquiries Credit_Mix  Outstanding_Debt  Credit_Utilization_Ratio  Credit_History_Age Payment_of_Min_Amount  Total_EMI_per_month  Amount_invested_monthly                 Payment_Behaviour  Monthly_Balance Credit_Score\n",
       "0  5634         3392      1  Aaron Maashoh  23.0  821000265.0  Scientist       19114.12            1824.843333                3.0              4.0            3.0          4.0  auto loan,credit-builder loan,personal loan,ho...                  3.0                     7.0                 11.27                   4.0       Good            809.98                 26.822620               265.0                    No            49.574949                 21.46538   High_spent_Small_value_payments       312.494089         Good\n",
       "1  5635         3392      2  Aaron Maashoh  23.0  821000265.0  Scientist       19114.12            1824.843333                3.0              4.0            3.0          4.0  auto loan,credit-builder loan,personal loan,ho...                  3.0                     4.0                 11.27                   4.0       Good            809.98                 31.944960               266.0                    No            49.574949                 21.46538    Low_spent_Large_value_payments       284.629162         Good\n",
       "2  5636         3392      3  Aaron Maashoh  23.0  821000265.0  Scientist       19114.12            1824.843333                3.0              4.0            3.0          4.0  auto loan,credit-builder loan,personal loan,ho...                  3.0                     7.0                 11.27                   4.0       Good            809.98                 28.609352               267.0                    No            49.574949                 21.46538   Low_spent_Medium_value_payments       331.209863         Good\n",
       "3  5637         3392      4  Aaron Maashoh  23.0  821000265.0  Scientist       19114.12            1824.843333                3.0              4.0            3.0          4.0  auto loan,credit-builder loan,personal loan,ho...                  5.0                     4.0                  6.27                   4.0       Good            809.98                 31.377862               268.0                    No            49.574949                 21.46538    Low_spent_Small_value_payments       223.451310         Good\n",
       "4  5638         3392      5  Aaron Maashoh  23.0  821000265.0  Scientist       19114.12            1824.843333                3.0              4.0            3.0          4.0  auto loan,credit-builder loan,personal loan,ho...                  6.0                     4.0                 11.27                   4.0       Good            809.98                 24.797347               269.0                    No            49.574949                 21.46538  High_spent_Medium_value_payments       341.489231         Good"
      ]
     },
     "execution_count": 3,
     "metadata": {},
     "output_type": "execute_result"
    }
   ],
   "source": [
    "df = pd.read_csv('train.csv')\n",
    "df.head()"
   ]
  },
  {
   "cell_type": "markdown",
   "id": "0216de57",
   "metadata": {
    "papermill": {
     "duration": 0.011703,
     "end_time": "2023-10-12T13:26:32.876308",
     "exception": false,
     "start_time": "2023-10-12T13:26:32.864605",
     "status": "completed"
    },
    "tags": []
   },
   "source": [
    "## Drop \n",
    "```python\n",
    "['id', 'customer_id', 'month', 'name', 'ssn']\n",
    "```"
   ]
  },
  {
   "cell_type": "code",
   "execution_count": null,
   "id": "f029e4f6",
   "metadata": {
    "execution": {
     "iopub.execute_input": "2023-10-12T13:26:32.899427Z",
     "iopub.status.busy": "2023-10-12T13:26:32.899056Z",
     "iopub.status.idle": "2023-10-12T13:26:32.935693Z",
     "shell.execute_reply": "2023-10-12T13:26:32.934587Z"
    },
    "papermill": {
     "duration": 0.050671,
     "end_time": "2023-10-12T13:26:32.937763",
     "exception": false,
     "start_time": "2023-10-12T13:26:32.887092",
     "status": "completed"
    },
    "tags": []
   },
   "outputs": [
    {
     "data": {
      "text/html": [
       "<div>\n",
       "<style scoped>\n",
       "    .dataframe tbody tr th:only-of-type {\n",
       "        vertical-align: middle;\n",
       "    }\n",
       "\n",
       "    .dataframe tbody tr th {\n",
       "        vertical-align: top;\n",
       "    }\n",
       "\n",
       "    .dataframe thead th {\n",
       "        text-align: right;\n",
       "    }\n",
       "</style>\n",
       "<table border=\"1\" class=\"dataframe\">\n",
       "  <thead>\n",
       "    <tr style=\"text-align: right;\">\n",
       "      <th></th>\n",
       "      <th>age</th>\n",
       "      <th>occupation</th>\n",
       "      <th>annual_income</th>\n",
       "      <th>monthly_inhand_salary</th>\n",
       "      <th>num_bank_accounts</th>\n",
       "      <th>num_credit_card</th>\n",
       "      <th>interest_rate</th>\n",
       "      <th>num_of_loan</th>\n",
       "      <th>type_of_loan</th>\n",
       "      <th>delay_from_due_date</th>\n",
       "      <th>num_of_delayed_payment</th>\n",
       "      <th>changed_credit_limit</th>\n",
       "      <th>num_credit_inquiries</th>\n",
       "      <th>credit_mix</th>\n",
       "      <th>outstanding_debt</th>\n",
       "      <th>credit_utilization_ratio</th>\n",
       "      <th>credit_history_age</th>\n",
       "      <th>payment_of_min_amount</th>\n",
       "      <th>total_emi_per_month</th>\n",
       "      <th>amount_invested_monthly</th>\n",
       "      <th>payment_behaviour</th>\n",
       "      <th>monthly_balance</th>\n",
       "      <th>credit_score</th>\n",
       "    </tr>\n",
       "  </thead>\n",
       "  <tbody>\n",
       "    <tr>\n",
       "      <th>0</th>\n",
       "      <td>23.0</td>\n",
       "      <td>Scientist</td>\n",
       "      <td>19114.12</td>\n",
       "      <td>1824.843333</td>\n",
       "      <td>3.0</td>\n",
       "      <td>4.0</td>\n",
       "      <td>3.0</td>\n",
       "      <td>4.0</td>\n",
       "      <td>auto loan,credit-builder loan,personal loan,ho...</td>\n",
       "      <td>3.0</td>\n",
       "      <td>7.0</td>\n",
       "      <td>11.27</td>\n",
       "      <td>4.0</td>\n",
       "      <td>Good</td>\n",
       "      <td>809.98</td>\n",
       "      <td>26.82262</td>\n",
       "      <td>265.0</td>\n",
       "      <td>No</td>\n",
       "      <td>49.574949</td>\n",
       "      <td>21.46538</td>\n",
       "      <td>High_spent_Small_value_payments</td>\n",
       "      <td>312.494089</td>\n",
       "      <td>Good</td>\n",
       "    </tr>\n",
       "    <tr>\n",
       "      <th>1</th>\n",
       "      <td>23.0</td>\n",
       "      <td>Scientist</td>\n",
       "      <td>19114.12</td>\n",
       "      <td>1824.843333</td>\n",
       "      <td>3.0</td>\n",
       "      <td>4.0</td>\n",
       "      <td>3.0</td>\n",
       "      <td>4.0</td>\n",
       "      <td>auto loan,credit-builder loan,personal loan,ho...</td>\n",
       "      <td>3.0</td>\n",
       "      <td>4.0</td>\n",
       "      <td>11.27</td>\n",
       "      <td>4.0</td>\n",
       "      <td>Good</td>\n",
       "      <td>809.98</td>\n",
       "      <td>31.94496</td>\n",
       "      <td>266.0</td>\n",
       "      <td>No</td>\n",
       "      <td>49.574949</td>\n",
       "      <td>21.46538</td>\n",
       "      <td>Low_spent_Large_value_payments</td>\n",
       "      <td>284.629162</td>\n",
       "      <td>Good</td>\n",
       "    </tr>\n",
       "  </tbody>\n",
       "</table>\n",
       "</div>"
      ],
      "text/plain": [
       "    age occupation  annual_income  monthly_inhand_salary  num_bank_accounts  num_credit_card  interest_rate  num_of_loan                                       type_of_loan  delay_from_due_date  num_of_delayed_payment  changed_credit_limit  num_credit_inquiries credit_mix  outstanding_debt  credit_utilization_ratio  credit_history_age payment_of_min_amount  total_emi_per_month  amount_invested_monthly                payment_behaviour  monthly_balance credit_score\n",
       "0  23.0  Scientist       19114.12            1824.843333                3.0              4.0            3.0          4.0  auto loan,credit-builder loan,personal loan,ho...                  3.0                     7.0                 11.27                   4.0       Good            809.98                  26.82262               265.0                    No            49.574949                 21.46538  High_spent_Small_value_payments       312.494089         Good\n",
       "1  23.0  Scientist       19114.12            1824.843333                3.0              4.0            3.0          4.0  auto loan,credit-builder loan,personal loan,ho...                  3.0                     4.0                 11.27                   4.0       Good            809.98                  31.94496               266.0                    No            49.574949                 21.46538   Low_spent_Large_value_payments       284.629162         Good"
      ]
     },
     "execution_count": 3,
     "metadata": {},
     "output_type": "execute_result"
    }
   ],
   "source": [
    "df.columns = df.columns.str.lower()\n",
    "df = df.drop(['id', 'customer_id', 'month', 'name', 'ssn'], axis=1)\n",
    "df.head(2)"
   ]
  },
  {
   "cell_type": "markdown",
   "id": "6456ecbd",
   "metadata": {
    "papermill": {
     "duration": 0.010584,
     "end_time": "2023-10-12T13:26:32.959219",
     "exception": false,
     "start_time": "2023-10-12T13:26:32.948635",
     "status": "completed"
    },
    "tags": []
   },
   "source": [
    "# EDA"
   ]
  },
  {
   "cell_type": "markdown",
   "id": "528b3514",
   "metadata": {
    "papermill": {
     "duration": 0.010498,
     "end_time": "2023-10-12T13:26:32.980579",
     "exception": false,
     "start_time": "2023-10-12T13:26:32.970081",
     "status": "completed"
    },
    "tags": []
   },
   "source": [
    "## check the data type of each column"
   ]
  },
  {
   "cell_type": "code",
   "execution_count": null,
   "id": "9b43565f",
   "metadata": {
    "execution": {
     "iopub.execute_input": "2023-10-12T13:26:33.004048Z",
     "iopub.status.busy": "2023-10-12T13:26:33.003428Z",
     "iopub.status.idle": "2023-10-12T13:26:33.008314Z",
     "shell.execute_reply": "2023-10-12T13:26:33.007253Z"
    },
    "papermill": {
     "duration": 0.01946,
     "end_time": "2023-10-12T13:26:33.010695",
     "exception": false,
     "start_time": "2023-10-12T13:26:32.991235",
     "status": "completed"
    },
    "tags": []
   },
   "outputs": [],
   "source": [
    "# df.info()"
   ]
  },
  {
   "cell_type": "markdown",
   "id": "e5084ce3",
   "metadata": {
    "papermill": {
     "duration": 0.010478,
     "end_time": "2023-10-12T13:26:33.032135",
     "exception": false,
     "start_time": "2023-10-12T13:26:33.021657",
     "status": "completed"
    },
    "tags": []
   },
   "source": [
    "## create a dataframe with string columns"
   ]
  },
  {
   "cell_type": "code",
   "execution_count": null,
   "id": "d5be3686",
   "metadata": {
    "execution": {
     "iopub.execute_input": "2023-10-12T13:26:33.055640Z",
     "iopub.status.busy": "2023-10-12T13:26:33.055053Z",
     "iopub.status.idle": "2023-10-12T13:26:33.077054Z",
     "shell.execute_reply": "2023-10-12T13:26:33.076002Z"
    },
    "papermill": {
     "duration": 0.036143,
     "end_time": "2023-10-12T13:26:33.079039",
     "exception": false,
     "start_time": "2023-10-12T13:26:33.042896",
     "status": "completed"
    },
    "tags": []
   },
   "outputs": [
    {
     "data": {
      "text/html": [
       "<div>\n",
       "<style scoped>\n",
       "    .dataframe tbody tr th:only-of-type {\n",
       "        vertical-align: middle;\n",
       "    }\n",
       "\n",
       "    .dataframe tbody tr th {\n",
       "        vertical-align: top;\n",
       "    }\n",
       "\n",
       "    .dataframe thead th {\n",
       "        text-align: right;\n",
       "    }\n",
       "</style>\n",
       "<table border=\"1\" class=\"dataframe\">\n",
       "  <thead>\n",
       "    <tr style=\"text-align: right;\">\n",
       "      <th></th>\n",
       "      <th>occupation</th>\n",
       "      <th>type_of_loan</th>\n",
       "      <th>credit_mix</th>\n",
       "      <th>payment_of_min_amount</th>\n",
       "      <th>payment_behaviour</th>\n",
       "    </tr>\n",
       "  </thead>\n",
       "  <tbody>\n",
       "    <tr>\n",
       "      <th>0</th>\n",
       "      <td>Scientist</td>\n",
       "      <td>auto loan,credit-builder loan,personal loan,ho...</td>\n",
       "      <td>Good</td>\n",
       "      <td>No</td>\n",
       "      <td>High_spent_Small_value_payments</td>\n",
       "    </tr>\n",
       "    <tr>\n",
       "      <th>1</th>\n",
       "      <td>Scientist</td>\n",
       "      <td>auto loan,credit-builder loan,personal loan,ho...</td>\n",
       "      <td>Good</td>\n",
       "      <td>No</td>\n",
       "      <td>Low_spent_Large_value_payments</td>\n",
       "    </tr>\n",
       "    <tr>\n",
       "      <th>2</th>\n",
       "      <td>Scientist</td>\n",
       "      <td>auto loan,credit-builder loan,personal loan,ho...</td>\n",
       "      <td>Good</td>\n",
       "      <td>No</td>\n",
       "      <td>Low_spent_Medium_value_payments</td>\n",
       "    </tr>\n",
       "    <tr>\n",
       "      <th>3</th>\n",
       "      <td>Scientist</td>\n",
       "      <td>auto loan,credit-builder loan,personal loan,ho...</td>\n",
       "      <td>Good</td>\n",
       "      <td>No</td>\n",
       "      <td>Low_spent_Small_value_payments</td>\n",
       "    </tr>\n",
       "    <tr>\n",
       "      <th>4</th>\n",
       "      <td>Scientist</td>\n",
       "      <td>auto loan,credit-builder loan,personal loan,ho...</td>\n",
       "      <td>Good</td>\n",
       "      <td>No</td>\n",
       "      <td>High_spent_Medium_value_payments</td>\n",
       "    </tr>\n",
       "  </tbody>\n",
       "</table>\n",
       "</div>"
      ],
      "text/plain": [
       "  occupation                                       type_of_loan credit_mix payment_of_min_amount                 payment_behaviour\n",
       "0  Scientist  auto loan,credit-builder loan,personal loan,ho...       Good                    No   High_spent_Small_value_payments\n",
       "1  Scientist  auto loan,credit-builder loan,personal loan,ho...       Good                    No    Low_spent_Large_value_payments\n",
       "2  Scientist  auto loan,credit-builder loan,personal loan,ho...       Good                    No   Low_spent_Medium_value_payments\n",
       "3  Scientist  auto loan,credit-builder loan,personal loan,ho...       Good                    No    Low_spent_Small_value_payments\n",
       "4  Scientist  auto loan,credit-builder loan,personal loan,ho...       Good                    No  High_spent_Medium_value_payments"
      ]
     },
     "execution_count": 5,
     "metadata": {},
     "output_type": "execute_result"
    }
   ],
   "source": [
    "string_columns = df.dtypes[df.dtypes == object].index\n",
    "df_str = df[string_columns].drop('credit_score', axis=1)\n",
    "df_str.head()"
   ]
  },
  {
   "cell_type": "markdown",
   "id": "02a070c9",
   "metadata": {
    "papermill": {
     "duration": 0.011104,
     "end_time": "2023-10-12T13:26:33.161389",
     "exception": false,
     "start_time": "2023-10-12T13:26:33.150285",
     "status": "completed"
    },
    "tags": []
   },
   "source": [
    "## create a dataframe with numerical columns"
   ]
  },
  {
   "cell_type": "code",
   "execution_count": null,
   "id": "93f117af",
   "metadata": {
    "execution": {
     "iopub.execute_input": "2023-10-12T13:26:33.185579Z",
     "iopub.status.busy": "2023-10-12T13:26:33.185222Z",
     "iopub.status.idle": "2023-10-12T13:26:33.217456Z",
     "shell.execute_reply": "2023-10-12T13:26:33.216635Z"
    },
    "papermill": {
     "duration": 0.046716,
     "end_time": "2023-10-12T13:26:33.219388",
     "exception": false,
     "start_time": "2023-10-12T13:26:33.172672",
     "status": "completed"
    },
    "tags": []
   },
   "outputs": [
    {
     "data": {
      "text/html": [
       "<div>\n",
       "<style scoped>\n",
       "    .dataframe tbody tr th:only-of-type {\n",
       "        vertical-align: middle;\n",
       "    }\n",
       "\n",
       "    .dataframe tbody tr th {\n",
       "        vertical-align: top;\n",
       "    }\n",
       "\n",
       "    .dataframe thead th {\n",
       "        text-align: right;\n",
       "    }\n",
       "</style>\n",
       "<table border=\"1\" class=\"dataframe\">\n",
       "  <thead>\n",
       "    <tr style=\"text-align: right;\">\n",
       "      <th></th>\n",
       "      <th>age</th>\n",
       "      <th>annual_income</th>\n",
       "      <th>monthly_inhand_salary</th>\n",
       "      <th>num_bank_accounts</th>\n",
       "      <th>num_credit_card</th>\n",
       "      <th>interest_rate</th>\n",
       "      <th>num_of_loan</th>\n",
       "      <th>delay_from_due_date</th>\n",
       "      <th>num_of_delayed_payment</th>\n",
       "      <th>changed_credit_limit</th>\n",
       "      <th>num_credit_inquiries</th>\n",
       "      <th>outstanding_debt</th>\n",
       "      <th>credit_utilization_ratio</th>\n",
       "      <th>credit_history_age</th>\n",
       "      <th>total_emi_per_month</th>\n",
       "      <th>amount_invested_monthly</th>\n",
       "      <th>monthly_balance</th>\n",
       "    </tr>\n",
       "  </thead>\n",
       "  <tbody>\n",
       "    <tr>\n",
       "      <th>0</th>\n",
       "      <td>23.0</td>\n",
       "      <td>19114.12</td>\n",
       "      <td>1824.843333</td>\n",
       "      <td>3.0</td>\n",
       "      <td>4.0</td>\n",
       "      <td>3.0</td>\n",
       "      <td>4.0</td>\n",
       "      <td>3.0</td>\n",
       "      <td>7.0</td>\n",
       "      <td>11.27</td>\n",
       "      <td>4.0</td>\n",
       "      <td>809.98</td>\n",
       "      <td>26.822620</td>\n",
       "      <td>265.0</td>\n",
       "      <td>49.574949</td>\n",
       "      <td>21.46538</td>\n",
       "      <td>312.494089</td>\n",
       "    </tr>\n",
       "    <tr>\n",
       "      <th>1</th>\n",
       "      <td>23.0</td>\n",
       "      <td>19114.12</td>\n",
       "      <td>1824.843333</td>\n",
       "      <td>3.0</td>\n",
       "      <td>4.0</td>\n",
       "      <td>3.0</td>\n",
       "      <td>4.0</td>\n",
       "      <td>3.0</td>\n",
       "      <td>4.0</td>\n",
       "      <td>11.27</td>\n",
       "      <td>4.0</td>\n",
       "      <td>809.98</td>\n",
       "      <td>31.944960</td>\n",
       "      <td>266.0</td>\n",
       "      <td>49.574949</td>\n",
       "      <td>21.46538</td>\n",
       "      <td>284.629162</td>\n",
       "    </tr>\n",
       "    <tr>\n",
       "      <th>2</th>\n",
       "      <td>23.0</td>\n",
       "      <td>19114.12</td>\n",
       "      <td>1824.843333</td>\n",
       "      <td>3.0</td>\n",
       "      <td>4.0</td>\n",
       "      <td>3.0</td>\n",
       "      <td>4.0</td>\n",
       "      <td>3.0</td>\n",
       "      <td>7.0</td>\n",
       "      <td>11.27</td>\n",
       "      <td>4.0</td>\n",
       "      <td>809.98</td>\n",
       "      <td>28.609352</td>\n",
       "      <td>267.0</td>\n",
       "      <td>49.574949</td>\n",
       "      <td>21.46538</td>\n",
       "      <td>331.209863</td>\n",
       "    </tr>\n",
       "    <tr>\n",
       "      <th>3</th>\n",
       "      <td>23.0</td>\n",
       "      <td>19114.12</td>\n",
       "      <td>1824.843333</td>\n",
       "      <td>3.0</td>\n",
       "      <td>4.0</td>\n",
       "      <td>3.0</td>\n",
       "      <td>4.0</td>\n",
       "      <td>5.0</td>\n",
       "      <td>4.0</td>\n",
       "      <td>6.27</td>\n",
       "      <td>4.0</td>\n",
       "      <td>809.98</td>\n",
       "      <td>31.377862</td>\n",
       "      <td>268.0</td>\n",
       "      <td>49.574949</td>\n",
       "      <td>21.46538</td>\n",
       "      <td>223.451310</td>\n",
       "    </tr>\n",
       "    <tr>\n",
       "      <th>4</th>\n",
       "      <td>23.0</td>\n",
       "      <td>19114.12</td>\n",
       "      <td>1824.843333</td>\n",
       "      <td>3.0</td>\n",
       "      <td>4.0</td>\n",
       "      <td>3.0</td>\n",
       "      <td>4.0</td>\n",
       "      <td>6.0</td>\n",
       "      <td>4.0</td>\n",
       "      <td>11.27</td>\n",
       "      <td>4.0</td>\n",
       "      <td>809.98</td>\n",
       "      <td>24.797347</td>\n",
       "      <td>269.0</td>\n",
       "      <td>49.574949</td>\n",
       "      <td>21.46538</td>\n",
       "      <td>341.489231</td>\n",
       "    </tr>\n",
       "  </tbody>\n",
       "</table>\n",
       "</div>"
      ],
      "text/plain": [
       "    age  annual_income  monthly_inhand_salary  num_bank_accounts  num_credit_card  interest_rate  num_of_loan  delay_from_due_date  num_of_delayed_payment  changed_credit_limit  num_credit_inquiries  outstanding_debt  credit_utilization_ratio  credit_history_age  total_emi_per_month  amount_invested_monthly  monthly_balance\n",
       "0  23.0       19114.12            1824.843333                3.0              4.0            3.0          4.0                  3.0                     7.0                 11.27                   4.0            809.98                 26.822620               265.0            49.574949                 21.46538       312.494089\n",
       "1  23.0       19114.12            1824.843333                3.0              4.0            3.0          4.0                  3.0                     4.0                 11.27                   4.0            809.98                 31.944960               266.0            49.574949                 21.46538       284.629162\n",
       "2  23.0       19114.12            1824.843333                3.0              4.0            3.0          4.0                  3.0                     7.0                 11.27                   4.0            809.98                 28.609352               267.0            49.574949                 21.46538       331.209863\n",
       "3  23.0       19114.12            1824.843333                3.0              4.0            3.0          4.0                  5.0                     4.0                  6.27                   4.0            809.98                 31.377862               268.0            49.574949                 21.46538       223.451310\n",
       "4  23.0       19114.12            1824.843333                3.0              4.0            3.0          4.0                  6.0                     4.0                 11.27                   4.0            809.98                 24.797347               269.0            49.574949                 21.46538       341.489231"
      ]
     },
     "execution_count": 6,
     "metadata": {},
     "output_type": "execute_result"
    }
   ],
   "source": [
    "numerical_columns = df.dtypes[df.dtypes != object].index\n",
    "df_num = df[numerical_columns]\n",
    "df_num.head()"
   ]
  },
  {
   "cell_type": "markdown",
   "id": "c8c718fc",
   "metadata": {
    "papermill": {
     "duration": 0.011066,
     "end_time": "2023-10-12T13:26:33.242013",
     "exception": false,
     "start_time": "2023-10-12T13:26:33.230947",
     "status": "completed"
    },
    "tags": []
   },
   "source": [
    "## examine the numerical columns"
   ]
  },
  {
   "cell_type": "code",
   "execution_count": null,
   "id": "5a975007",
   "metadata": {
    "execution": {
     "iopub.execute_input": "2023-10-12T13:26:33.266719Z",
     "iopub.status.busy": "2023-10-12T13:26:33.265604Z",
     "iopub.status.idle": "2023-10-12T13:26:33.376059Z",
     "shell.execute_reply": "2023-10-12T13:26:33.375246Z"
    },
    "papermill": {
     "duration": 0.124998,
     "end_time": "2023-10-12T13:26:33.378189",
     "exception": false,
     "start_time": "2023-10-12T13:26:33.253191",
     "status": "completed"
    },
    "tags": []
   },
   "outputs": [
    {
     "data": {
      "text/html": [
       "<div>\n",
       "<style scoped>\n",
       "    .dataframe tbody tr th:only-of-type {\n",
       "        vertical-align: middle;\n",
       "    }\n",
       "\n",
       "    .dataframe tbody tr th {\n",
       "        vertical-align: top;\n",
       "    }\n",
       "\n",
       "    .dataframe thead th {\n",
       "        text-align: right;\n",
       "    }\n",
       "</style>\n",
       "<table border=\"1\" class=\"dataframe\">\n",
       "  <thead>\n",
       "    <tr style=\"text-align: right;\">\n",
       "      <th></th>\n",
       "      <th>age</th>\n",
       "      <th>annual_income</th>\n",
       "      <th>monthly_inhand_salary</th>\n",
       "      <th>num_bank_accounts</th>\n",
       "      <th>num_credit_card</th>\n",
       "      <th>interest_rate</th>\n",
       "      <th>num_of_loan</th>\n",
       "      <th>delay_from_due_date</th>\n",
       "      <th>num_of_delayed_payment</th>\n",
       "      <th>changed_credit_limit</th>\n",
       "      <th>num_credit_inquiries</th>\n",
       "      <th>outstanding_debt</th>\n",
       "      <th>credit_utilization_ratio</th>\n",
       "      <th>credit_history_age</th>\n",
       "      <th>total_emi_per_month</th>\n",
       "      <th>amount_invested_monthly</th>\n",
       "      <th>monthly_balance</th>\n",
       "    </tr>\n",
       "  </thead>\n",
       "  <tbody>\n",
       "    <tr>\n",
       "      <th>count</th>\n",
       "      <td>100000.000000</td>\n",
       "      <td>100000.000000</td>\n",
       "      <td>100000.000000</td>\n",
       "      <td>100000.000000</td>\n",
       "      <td>100000.000000</td>\n",
       "      <td>100000.00000</td>\n",
       "      <td>100000.000000</td>\n",
       "      <td>100000.00000</td>\n",
       "      <td>100000.000000</td>\n",
       "      <td>100000.000000</td>\n",
       "      <td>100000.000000</td>\n",
       "      <td>100000.000000</td>\n",
       "      <td>100000.000000</td>\n",
       "      <td>100000.000000</td>\n",
       "      <td>100000.000000</td>\n",
       "      <td>100000.000000</td>\n",
       "      <td>100000.000000</td>\n",
       "    </tr>\n",
       "    <tr>\n",
       "      <th>mean</th>\n",
       "      <td>33.316340</td>\n",
       "      <td>50505.123449</td>\n",
       "      <td>4197.270835</td>\n",
       "      <td>5.368820</td>\n",
       "      <td>5.533570</td>\n",
       "      <td>14.53208</td>\n",
       "      <td>3.532880</td>\n",
       "      <td>21.08141</td>\n",
       "      <td>13.313120</td>\n",
       "      <td>10.470323</td>\n",
       "      <td>5.798250</td>\n",
       "      <td>1426.220376</td>\n",
       "      <td>32.285173</td>\n",
       "      <td>221.220460</td>\n",
       "      <td>107.699208</td>\n",
       "      <td>55.101315</td>\n",
       "      <td>392.697586</td>\n",
       "    </tr>\n",
       "    <tr>\n",
       "      <th>std</th>\n",
       "      <td>10.764812</td>\n",
       "      <td>38299.422093</td>\n",
       "      <td>3186.432497</td>\n",
       "      <td>2.593314</td>\n",
       "      <td>2.067098</td>\n",
       "      <td>8.74133</td>\n",
       "      <td>2.446356</td>\n",
       "      <td>14.80456</td>\n",
       "      <td>6.237166</td>\n",
       "      <td>6.609481</td>\n",
       "      <td>3.867826</td>\n",
       "      <td>1155.129026</td>\n",
       "      <td>5.116875</td>\n",
       "      <td>99.680716</td>\n",
       "      <td>132.267056</td>\n",
       "      <td>39.006932</td>\n",
       "      <td>201.652719</td>\n",
       "    </tr>\n",
       "    <tr>\n",
       "      <th>min</th>\n",
       "      <td>14.000000</td>\n",
       "      <td>7005.930000</td>\n",
       "      <td>303.645417</td>\n",
       "      <td>0.000000</td>\n",
       "      <td>0.000000</td>\n",
       "      <td>1.00000</td>\n",
       "      <td>0.000000</td>\n",
       "      <td>0.00000</td>\n",
       "      <td>0.000000</td>\n",
       "      <td>0.500000</td>\n",
       "      <td>0.000000</td>\n",
       "      <td>0.230000</td>\n",
       "      <td>20.000000</td>\n",
       "      <td>1.000000</td>\n",
       "      <td>0.000000</td>\n",
       "      <td>0.000000</td>\n",
       "      <td>0.007760</td>\n",
       "    </tr>\n",
       "    <tr>\n",
       "      <th>25%</th>\n",
       "      <td>24.000000</td>\n",
       "      <td>19342.972500</td>\n",
       "      <td>1626.594167</td>\n",
       "      <td>3.000000</td>\n",
       "      <td>4.000000</td>\n",
       "      <td>7.00000</td>\n",
       "      <td>2.000000</td>\n",
       "      <td>10.00000</td>\n",
       "      <td>9.000000</td>\n",
       "      <td>5.380000</td>\n",
       "      <td>3.000000</td>\n",
       "      <td>566.072500</td>\n",
       "      <td>28.052567</td>\n",
       "      <td>144.000000</td>\n",
       "      <td>29.268886</td>\n",
       "      <td>27.959111</td>\n",
       "      <td>267.615983</td>\n",
       "    </tr>\n",
       "    <tr>\n",
       "      <th>50%</th>\n",
       "      <td>33.000000</td>\n",
       "      <td>36999.705000</td>\n",
       "      <td>3095.905000</td>\n",
       "      <td>5.000000</td>\n",
       "      <td>5.000000</td>\n",
       "      <td>13.00000</td>\n",
       "      <td>3.000000</td>\n",
       "      <td>18.00000</td>\n",
       "      <td>14.000000</td>\n",
       "      <td>9.400000</td>\n",
       "      <td>5.000000</td>\n",
       "      <td>1166.155000</td>\n",
       "      <td>32.305784</td>\n",
       "      <td>219.000000</td>\n",
       "      <td>66.462304</td>\n",
       "      <td>45.156550</td>\n",
       "      <td>333.865366</td>\n",
       "    </tr>\n",
       "    <tr>\n",
       "      <th>75%</th>\n",
       "      <td>42.000000</td>\n",
       "      <td>71683.470000</td>\n",
       "      <td>5957.715000</td>\n",
       "      <td>7.000000</td>\n",
       "      <td>7.000000</td>\n",
       "      <td>20.00000</td>\n",
       "      <td>5.000000</td>\n",
       "      <td>28.00000</td>\n",
       "      <td>18.000000</td>\n",
       "      <td>14.850000</td>\n",
       "      <td>8.000000</td>\n",
       "      <td>1945.962500</td>\n",
       "      <td>36.496663</td>\n",
       "      <td>302.000000</td>\n",
       "      <td>147.392573</td>\n",
       "      <td>71.295797</td>\n",
       "      <td>463.215683</td>\n",
       "    </tr>\n",
       "    <tr>\n",
       "      <th>max</th>\n",
       "      <td>56.000000</td>\n",
       "      <td>179987.280000</td>\n",
       "      <td>15204.633333</td>\n",
       "      <td>11.000000</td>\n",
       "      <td>11.000000</td>\n",
       "      <td>34.00000</td>\n",
       "      <td>9.000000</td>\n",
       "      <td>62.00000</td>\n",
       "      <td>25.000000</td>\n",
       "      <td>29.980000</td>\n",
       "      <td>17.000000</td>\n",
       "      <td>4998.070000</td>\n",
       "      <td>50.000000</td>\n",
       "      <td>404.000000</td>\n",
       "      <td>1779.103254</td>\n",
       "      <td>434.191089</td>\n",
       "      <td>1183.930696</td>\n",
       "    </tr>\n",
       "  </tbody>\n",
       "</table>\n",
       "</div>"
      ],
      "text/plain": [
       "                 age  annual_income  monthly_inhand_salary  num_bank_accounts  num_credit_card  interest_rate    num_of_loan  delay_from_due_date  num_of_delayed_payment  changed_credit_limit  num_credit_inquiries  outstanding_debt  credit_utilization_ratio  credit_history_age  total_emi_per_month  amount_invested_monthly  monthly_balance\n",
       "count  100000.000000  100000.000000          100000.000000      100000.000000    100000.000000   100000.00000  100000.000000         100000.00000           100000.000000         100000.000000         100000.000000     100000.000000             100000.000000       100000.000000        100000.000000            100000.000000    100000.000000\n",
       "mean       33.316340   50505.123449            4197.270835           5.368820         5.533570       14.53208       3.532880             21.08141               13.313120             10.470323              5.798250       1426.220376                 32.285173          221.220460           107.699208                55.101315       392.697586\n",
       "std        10.764812   38299.422093            3186.432497           2.593314         2.067098        8.74133       2.446356             14.80456                6.237166              6.609481              3.867826       1155.129026                  5.116875           99.680716           132.267056                39.006932       201.652719\n",
       "min        14.000000    7005.930000             303.645417           0.000000         0.000000        1.00000       0.000000              0.00000                0.000000              0.500000              0.000000          0.230000                 20.000000            1.000000             0.000000                 0.000000         0.007760\n",
       "25%        24.000000   19342.972500            1626.594167           3.000000         4.000000        7.00000       2.000000             10.00000                9.000000              5.380000              3.000000        566.072500                 28.052567          144.000000            29.268886                27.959111       267.615983\n",
       "50%        33.000000   36999.705000            3095.905000           5.000000         5.000000       13.00000       3.000000             18.00000               14.000000              9.400000              5.000000       1166.155000                 32.305784          219.000000            66.462304                45.156550       333.865366\n",
       "75%        42.000000   71683.470000            5957.715000           7.000000         7.000000       20.00000       5.000000             28.00000               18.000000             14.850000              8.000000       1945.962500                 36.496663          302.000000           147.392573                71.295797       463.215683\n",
       "max        56.000000  179987.280000           15204.633333          11.000000        11.000000       34.00000       9.000000             62.00000               25.000000             29.980000             17.000000       4998.070000                 50.000000          404.000000          1779.103254               434.191089      1183.930696"
      ]
     },
     "execution_count": 7,
     "metadata": {},
     "output_type": "execute_result"
    }
   ],
   "source": [
    "df_num.describe()"
   ]
  },
  {
   "cell_type": "markdown",
   "id": "43bcd329",
   "metadata": {
    "papermill": {
     "duration": 0.011833,
     "end_time": "2023-10-12T13:26:33.402703",
     "exception": false,
     "start_time": "2023-10-12T13:26:33.390870",
     "status": "completed"
    },
    "tags": []
   },
   "source": [
    "## calculate correlation for numerical columns"
   ]
  },
  {
   "cell_type": "code",
   "execution_count": null,
   "id": "9bfc7465",
   "metadata": {
    "execution": {
     "iopub.execute_input": "2023-10-12T13:26:33.430596Z",
     "iopub.status.busy": "2023-10-12T13:26:33.429622Z",
     "iopub.status.idle": "2023-10-12T13:26:34.754498Z",
     "shell.execute_reply": "2023-10-12T13:26:34.753646Z"
    },
    "papermill": {
     "duration": 1.342965,
     "end_time": "2023-10-12T13:26:34.759239",
     "exception": false,
     "start_time": "2023-10-12T13:26:33.416274",
     "status": "completed"
    },
    "tags": []
   },
   "outputs": [
    {
     "data": {
      "image/png": "[encoded data removed]",
      "text/plain": [
       "<Figure size 2000x600 with 2 Axes>"
      ]
     },
     "metadata": {},
     "output_type": "display_data"
    }
   ],
   "source": [
    "plt.figure(figsize=(20, 6))\n",
    "heatmap = sns.heatmap(df_num.corr(), annot=True, fmt=\".2f\", cmap=\"coolwarm\", linewidths=0.5)"
   ]
  },
  {
   "cell_type": "markdown",
   "id": "d485c3cb",
   "metadata": {
    "papermill": {
     "duration": 0.015727,
     "end_time": "2023-10-12T13:26:34.790948",
     "exception": false,
     "start_time": "2023-10-12T13:26:34.775221",
     "status": "completed"
    },
    "tags": []
   },
   "source": [
    "## Drop `annual_income` or `monthly_inhand_salary` since they are perfectly correlated with each other"
   ]
  },
  {
   "cell_type": "code",
   "execution_count": null,
   "id": "500794ca",
   "metadata": {
    "execution": {
     "iopub.execute_input": "2023-10-12T13:26:34.824710Z",
     "iopub.status.busy": "2023-10-12T13:26:34.824067Z",
     "iopub.status.idle": "2023-10-12T13:26:34.831506Z",
     "shell.execute_reply": "2023-10-12T13:26:34.830762Z"
    },
    "papermill": {
     "duration": 0.026796,
     "end_time": "2023-10-12T13:26:34.833592",
     "exception": false,
     "start_time": "2023-10-12T13:26:34.806796",
     "status": "completed"
    },
    "tags": []
   },
   "outputs": [],
   "source": [
    "df_num = df_num.drop('annual_income', axis=1)"
   ]
  },
  {
   "cell_type": "markdown",
   "id": "575a8344",
   "metadata": {
    "papermill": {
     "duration": 0.015751,
     "end_time": "2023-10-12T13:26:34.865596",
     "exception": false,
     "start_time": "2023-10-12T13:26:34.849845",
     "status": "completed"
    },
    "tags": []
   },
   "source": [
    "# Features Distributions\n",
    "create a boxplot to check for outliers"
   ]
  },
  {
   "cell_type": "code",
   "execution_count": null,
   "id": "eb5cb693",
   "metadata": {
    "execution": {
     "iopub.execute_input": "2023-10-12T13:26:34.899189Z",
     "iopub.status.busy": "2023-10-12T13:26:34.898849Z",
     "iopub.status.idle": "2023-10-12T13:26:36.543874Z",
     "shell.execute_reply": "2023-10-12T13:26:36.542731Z"
    },
    "papermill": {
     "duration": 1.664712,
     "end_time": "2023-10-12T13:26:36.546333",
     "exception": false,
     "start_time": "2023-10-12T13:26:34.881621",
     "status": "completed"
    },
    "tags": []
   },
   "outputs": [
    {
     "data": {
      "image/png": "[encoded data removed]",
      "text/plain": [
       "<Figure size 2000x600 with 1 Axes>"
      ]
     },
     "metadata": {},
     "output_type": "display_data"
    }
   ],
   "source": [
    "import matplotlib.pyplot as plt\n",
    "\n",
    "plt.figure(figsize=(20, 6))\n",
    "ax = (df_num/df_num.max()).boxplot()\n",
    "plt.xticks(rotation=45)\n",
    "plt.show()"
   ]
  },
  {
   "cell_type": "markdown",
   "id": "79af068e",
   "metadata": {
    "papermill": {
     "duration": 0.016694,
     "end_time": "2023-10-12T13:26:36.580257",
     "exception": false,
     "start_time": "2023-10-12T13:26:36.563563",
     "status": "completed"
    },
    "tags": []
   },
   "source": [
    "## visualize the distribution of each variable"
   ]
  },
  {
   "cell_type": "code",
   "execution_count": null,
   "id": "92a2554c",
   "metadata": {
    "execution": {
     "iopub.execute_input": "2023-10-12T13:26:36.616184Z",
     "iopub.status.busy": "2023-10-12T13:26:36.615807Z",
     "iopub.status.idle": "2023-10-12T13:26:36.620346Z",
     "shell.execute_reply": "2023-10-12T13:26:36.619293Z"
    },
    "papermill": {
     "duration": 0.025101,
     "end_time": "2023-10-12T13:26:36.622262",
     "exception": false,
     "start_time": "2023-10-12T13:26:36.597161",
     "status": "completed"
    },
    "tags": []
   },
   "outputs": [],
   "source": [
    "# # Create subplots for each set of 5 columns in each row\n",
    "# num_plots = len(input_df.columns)\n",
    "# num_rows = len(input_df.columns) // 5 + 1  # Number of rows needed\n",
    "\n",
    "# fig, axes = plt.subplots(num_rows, 5, figsize=(15, 12))\n",
    "\n",
    "# for i, col in enumerate(input_df.columns):\n",
    "#     row_num = i // 5\n",
    "#     col_num = i % 5\n",
    "#     ax = axes[row_num, col_num]\n",
    "#     sns.histplot(df[col], ax=ax, kde=True)\n",
    "#     ax.set_title(f'Distribution - {col}')\n",
    "#     ax.set_xlabel('')\n",
    "#     ax.set_ylabel('')\n",
    "    \n",
    "# # Remove empty subplots\n",
    "# for i in range(num_plots, num_rows * 5):\n",
    "#     fig.delaxes(axes.flatten()[i])\n",
    "\n",
    "# plt.tight_layout()\n",
    "# plt.show()"
   ]
  },
  {
   "cell_type": "markdown",
   "id": "feac8c9d",
   "metadata": {
    "papermill": {
     "duration": 0.01751,
     "end_time": "2023-10-12T13:26:36.657938",
     "exception": false,
     "start_time": "2023-10-12T13:26:36.640428",
     "status": "completed"
    },
    "tags": []
   },
   "source": [
    "## calculate the average of each column for each label in the target variable"
   ]
  },
  {
   "cell_type": "code",
   "execution_count": null,
   "id": "7830429a",
   "metadata": {
    "execution": {
     "iopub.execute_input": "2023-10-12T13:26:36.695744Z",
     "iopub.status.busy": "2023-10-12T13:26:36.695366Z",
     "iopub.status.idle": "2023-10-12T13:26:36.733007Z",
     "shell.execute_reply": "2023-10-12T13:26:36.732007Z"
    },
    "papermill": {
     "duration": 0.058992,
     "end_time": "2023-10-12T13:26:36.735246",
     "exception": false,
     "start_time": "2023-10-12T13:26:36.676254",
     "status": "completed"
    },
    "tags": []
   },
   "outputs": [
    {
     "data": {
      "text/html": [
       "<div>\n",
       "<style scoped>\n",
       "    .dataframe tbody tr th:only-of-type {\n",
       "        vertical-align: middle;\n",
       "    }\n",
       "\n",
       "    .dataframe tbody tr th {\n",
       "        vertical-align: top;\n",
       "    }\n",
       "\n",
       "    .dataframe thead th {\n",
       "        text-align: right;\n",
       "    }\n",
       "</style>\n",
       "<table border=\"1\" class=\"dataframe\">\n",
       "  <thead>\n",
       "    <tr style=\"text-align: right;\">\n",
       "      <th></th>\n",
       "      <th>age</th>\n",
       "      <th>annual_income</th>\n",
       "      <th>monthly_inhand_salary</th>\n",
       "      <th>num_bank_accounts</th>\n",
       "      <th>num_credit_card</th>\n",
       "      <th>interest_rate</th>\n",
       "      <th>num_of_loan</th>\n",
       "      <th>delay_from_due_date</th>\n",
       "      <th>num_of_delayed_payment</th>\n",
       "      <th>changed_credit_limit</th>\n",
       "      <th>num_credit_inquiries</th>\n",
       "      <th>outstanding_debt</th>\n",
       "      <th>credit_utilization_ratio</th>\n",
       "      <th>credit_history_age</th>\n",
       "      <th>total_emi_per_month</th>\n",
       "      <th>amount_invested_monthly</th>\n",
       "      <th>monthly_balance</th>\n",
       "    </tr>\n",
       "    <tr>\n",
       "      <th>credit_score</th>\n",
       "      <th></th>\n",
       "      <th></th>\n",
       "      <th></th>\n",
       "      <th></th>\n",
       "      <th></th>\n",
       "      <th></th>\n",
       "      <th></th>\n",
       "      <th></th>\n",
       "      <th></th>\n",
       "      <th></th>\n",
       "      <th></th>\n",
       "      <th></th>\n",
       "      <th></th>\n",
       "      <th></th>\n",
       "      <th></th>\n",
       "      <th></th>\n",
       "      <th></th>\n",
       "    </tr>\n",
       "  </thead>\n",
       "  <tbody>\n",
       "    <tr>\n",
       "      <th>Good</th>\n",
       "      <td>36.402625</td>\n",
       "      <td>65203.672105</td>\n",
       "      <td>5399.919696</td>\n",
       "      <td>3.440263</td>\n",
       "      <td>4.143258</td>\n",
       "      <td>7.662329</td>\n",
       "      <td>2.202154</td>\n",
       "      <td>10.958997</td>\n",
       "      <td>8.564842</td>\n",
       "      <td>7.249857</td>\n",
       "      <td>3.298631</td>\n",
       "      <td>801.256324</td>\n",
       "      <td>32.686107</td>\n",
       "      <td>284.765650</td>\n",
       "      <td>121.691019</td>\n",
       "      <td>67.417611</td>\n",
       "      <td>456.691556</td>\n",
       "    </tr>\n",
       "    <tr>\n",
       "      <th>Poor</th>\n",
       "      <td>31.194565</td>\n",
       "      <td>40584.515325</td>\n",
       "      <td>3380.560657</td>\n",
       "      <td>6.526726</td>\n",
       "      <td>6.625147</td>\n",
       "      <td>20.187116</td>\n",
       "      <td>4.755742</td>\n",
       "      <td>29.728809</td>\n",
       "      <td>15.809883</td>\n",
       "      <td>11.116281</td>\n",
       "      <td>8.179599</td>\n",
       "      <td>2081.473157</td>\n",
       "      <td>31.986146</td>\n",
       "      <td>170.061797</td>\n",
       "      <td>111.198326</td>\n",
       "      <td>47.033019</td>\n",
       "      <td>339.212601</td>\n",
       "    </tr>\n",
       "    <tr>\n",
       "      <th>Standard</th>\n",
       "      <td>33.438673</td>\n",
       "      <td>50987.164840</td>\n",
       "      <td>4239.436890</td>\n",
       "      <td>5.383966</td>\n",
       "      <td>5.404427</td>\n",
       "      <td>13.751420</td>\n",
       "      <td>3.312164</td>\n",
       "      <td>19.759431</td>\n",
       "      <td>13.543518</td>\n",
       "      <td>11.197803</td>\n",
       "      <td>5.337665</td>\n",
       "      <td>1278.419552</td>\n",
       "      <td>32.313820</td>\n",
       "      <td>227.814195</td>\n",
       "      <td>101.099865</td>\n",
       "      <td>55.371927</td>\n",
       "      <td>400.409496</td>\n",
       "    </tr>\n",
       "  </tbody>\n",
       "</table>\n",
       "</div>"
      ],
      "text/plain": [
       "                    age  annual_income  monthly_inhand_salary  num_bank_accounts  num_credit_card  interest_rate  num_of_loan  delay_from_due_date  num_of_delayed_payment  changed_credit_limit  num_credit_inquiries  outstanding_debt  credit_utilization_ratio  credit_history_age  total_emi_per_month  amount_invested_monthly  monthly_balance\n",
       "credit_score                                                                                                                                                                                                                                                                                                                                         \n",
       "Good          36.402625   65203.672105            5399.919696           3.440263         4.143258       7.662329     2.202154            10.958997                8.564842              7.249857              3.298631        801.256324                 32.686107          284.765650           121.691019                67.417611       456.691556\n",
       "Poor          31.194565   40584.515325            3380.560657           6.526726         6.625147      20.187116     4.755742            29.728809               15.809883             11.116281              8.179599       2081.473157                 31.986146          170.061797           111.198326                47.033019       339.212601\n",
       "Standard      33.438673   50987.164840            4239.436890           5.383966         5.404427      13.751420     3.312164            19.759431               13.543518             11.197803              5.337665       1278.419552                 32.313820          227.814195           101.099865                55.371927       400.409496"
      ]
     },
     "execution_count": 12,
     "metadata": {},
     "output_type": "execute_result"
    }
   ],
   "source": [
    "grouped = df.groupby('credit_score').mean(numeric_only=True)\n",
    "grouped"
   ]
  },
  {
   "cell_type": "markdown",
   "id": "fe80eef4",
   "metadata": {
    "papermill": {
     "duration": 0.017865,
     "end_time": "2023-10-12T13:26:36.771132",
     "exception": false,
     "start_time": "2023-10-12T13:26:36.753267",
     "status": "completed"
    },
    "tags": []
   },
   "source": [
    "## create barplots for some columns to see how they can help with classifying the data"
   ]
  },
  {
   "cell_type": "code",
   "execution_count": null,
   "id": "0cfa67bf",
   "metadata": {
    "execution": {
     "iopub.execute_input": "2023-10-12T13:26:36.809047Z",
     "iopub.status.busy": "2023-10-12T13:26:36.808118Z",
     "iopub.status.idle": "2023-10-12T13:26:37.667589Z",
     "shell.execute_reply": "2023-10-12T13:26:37.666450Z"
    },
    "papermill": {
     "duration": 0.880762,
     "end_time": "2023-10-12T13:26:37.669780",
     "exception": false,
     "start_time": "2023-10-12T13:26:36.789018",
     "status": "completed"
    },
    "tags": []
   },
   "outputs": [
    {
     "data": {
      "image/png": "[encoded data removed]",
      "text/plain": [
       "<Figure size 1500x300 with 6 Axes>"
      ]
     },
     "metadata": {},
     "output_type": "display_data"
    }
   ],
   "source": [
    "columns_for_bar_plot = ['num_bank_accounts', 'num_credit_card', 'interest_rate', 'num_of_loan', 'delay_from_due_date', 'monthly_inhand_salary']\n",
    "\n",
    "fig, axes = plt.subplots(1, 6, figsize=(15, 3))\n",
    "\n",
    "for i, column in enumerate(columns_for_bar_plot):\n",
    "    ax = axes[i]\n",
    "    ax.bar(grouped.index, grouped[column])\n",
    "    ax.set_title(f'{column}')\n",
    "    \n",
    "plt.tight_layout()\n",
    "plt.show()"
   ]
  },
  {
   "cell_type": "markdown",
   "id": "da51ff2c",
   "metadata": {
    "papermill": {
     "duration": 0.017461,
     "end_time": "2023-10-12T13:26:37.705357",
     "exception": false,
     "start_time": "2023-10-12T13:26:37.687896",
     "status": "completed"
    },
    "tags": []
   },
   "source": [
    "## process the `type_of_loan` column to expand it and create a column for each unique value in it"
   ]
  },
  {
   "cell_type": "code",
   "execution_count": null,
   "id": "1aa3e1a5",
   "metadata": {
    "execution": {
     "iopub.execute_input": "2023-10-12T13:26:37.742907Z",
     "iopub.status.busy": "2023-10-12T13:26:37.742552Z",
     "iopub.status.idle": "2023-10-12T13:26:37.748302Z",
     "shell.execute_reply": "2023-10-12T13:26:37.747586Z"
    },
    "papermill": {
     "duration": 0.026754,
     "end_time": "2023-10-12T13:26:37.750007",
     "exception": false,
     "start_time": "2023-10-12T13:26:37.723253",
     "status": "completed"
    },
    "tags": []
   },
   "outputs": [],
   "source": [
    "def process_type_of_loan(df):\n",
    "    \n",
    "    # Split the strings and create a set of unique items\n",
    "    unique_items = set()\n",
    "    \n",
    "    for item_list in df['type_of_loan']:\n",
    "        items = item_list.split(',')\n",
    "        unique_items.update(items)\n",
    "\n",
    "    # Create a dictionary to hold binary indicators for each item\n",
    "    indicators = {}\n",
    "    for item in unique_items:\n",
    "        indicators[item] = df['type_of_loan'].apply(lambda x: item in x).astype(int)\n",
    "\n",
    "    # Create a new DataFrame with binary indicators\n",
    "    result_df = pd.DataFrame(indicators)\n",
    "    \n",
    "    return result_df"
   ]
  },
  {
   "cell_type": "code",
   "execution_count": null,
   "id": "5cb5df26",
   "metadata": {
    "execution": {
     "iopub.execute_input": "2023-10-12T13:26:37.788256Z",
     "iopub.status.busy": "2023-10-12T13:26:37.787255Z",
     "iopub.status.idle": "2023-10-12T13:26:38.086035Z",
     "shell.execute_reply": "2023-10-12T13:26:38.085013Z"
    },
    "papermill": {
     "duration": 0.320017,
     "end_time": "2023-10-12T13:26:38.088075",
     "exception": false,
     "start_time": "2023-10-12T13:26:37.768058",
     "status": "completed"
    },
    "tags": []
   },
   "outputs": [
    {
     "data": {
      "text/html": [
       "<div>\n",
       "<style scoped>\n",
       "    .dataframe tbody tr th:only-of-type {\n",
       "        vertical-align: middle;\n",
       "    }\n",
       "\n",
       "    .dataframe tbody tr th {\n",
       "        vertical-align: top;\n",
       "    }\n",
       "\n",
       "    .dataframe thead th {\n",
       "        text-align: right;\n",
       "    }\n",
       "</style>\n",
       "<table border=\"1\" class=\"dataframe\">\n",
       "  <thead>\n",
       "    <tr style=\"text-align: right;\">\n",
       "      <th></th>\n",
       "      <th>occupation</th>\n",
       "      <th>credit_mix</th>\n",
       "      <th>payment_of_min_amount</th>\n",
       "      <th>payment_behaviour</th>\n",
       "      <th>debt consolidation loan</th>\n",
       "      <th>credit-builder loan</th>\n",
       "      <th>home equity loan</th>\n",
       "      <th>student loan</th>\n",
       "      <th>mortgage loan</th>\n",
       "      <th>auto loan</th>\n",
       "      <th>personal loan</th>\n",
       "      <th>not specified</th>\n",
       "      <th>No Data</th>\n",
       "      <th>payday loan</th>\n",
       "    </tr>\n",
       "  </thead>\n",
       "  <tbody>\n",
       "    <tr>\n",
       "      <th>0</th>\n",
       "      <td>Scientist</td>\n",
       "      <td>Good</td>\n",
       "      <td>No</td>\n",
       "      <td>High_spent_Small_value_payments</td>\n",
       "      <td>0</td>\n",
       "      <td>1</td>\n",
       "      <td>1</td>\n",
       "      <td>0</td>\n",
       "      <td>0</td>\n",
       "      <td>1</td>\n",
       "      <td>1</td>\n",
       "      <td>0</td>\n",
       "      <td>0</td>\n",
       "      <td>0</td>\n",
       "    </tr>\n",
       "    <tr>\n",
       "      <th>1</th>\n",
       "      <td>Scientist</td>\n",
       "      <td>Good</td>\n",
       "      <td>No</td>\n",
       "      <td>Low_spent_Large_value_payments</td>\n",
       "      <td>0</td>\n",
       "      <td>1</td>\n",
       "      <td>1</td>\n",
       "      <td>0</td>\n",
       "      <td>0</td>\n",
       "      <td>1</td>\n",
       "      <td>1</td>\n",
       "      <td>0</td>\n",
       "      <td>0</td>\n",
       "      <td>0</td>\n",
       "    </tr>\n",
       "    <tr>\n",
       "      <th>2</th>\n",
       "      <td>Scientist</td>\n",
       "      <td>Good</td>\n",
       "      <td>No</td>\n",
       "      <td>Low_spent_Medium_value_payments</td>\n",
       "      <td>0</td>\n",
       "      <td>1</td>\n",
       "      <td>1</td>\n",
       "      <td>0</td>\n",
       "      <td>0</td>\n",
       "      <td>1</td>\n",
       "      <td>1</td>\n",
       "      <td>0</td>\n",
       "      <td>0</td>\n",
       "      <td>0</td>\n",
       "    </tr>\n",
       "    <tr>\n",
       "      <th>3</th>\n",
       "      <td>Scientist</td>\n",
       "      <td>Good</td>\n",
       "      <td>No</td>\n",
       "      <td>Low_spent_Small_value_payments</td>\n",
       "      <td>0</td>\n",
       "      <td>1</td>\n",
       "      <td>1</td>\n",
       "      <td>0</td>\n",
       "      <td>0</td>\n",
       "      <td>1</td>\n",
       "      <td>1</td>\n",
       "      <td>0</td>\n",
       "      <td>0</td>\n",
       "      <td>0</td>\n",
       "    </tr>\n",
       "    <tr>\n",
       "      <th>4</th>\n",
       "      <td>Scientist</td>\n",
       "      <td>Good</td>\n",
       "      <td>No</td>\n",
       "      <td>High_spent_Medium_value_payments</td>\n",
       "      <td>0</td>\n",
       "      <td>1</td>\n",
       "      <td>1</td>\n",
       "      <td>0</td>\n",
       "      <td>0</td>\n",
       "      <td>1</td>\n",
       "      <td>1</td>\n",
       "      <td>0</td>\n",
       "      <td>0</td>\n",
       "      <td>0</td>\n",
       "    </tr>\n",
       "  </tbody>\n",
       "</table>\n",
       "</div>"
      ],
      "text/plain": [
       "  occupation credit_mix payment_of_min_amount                 payment_behaviour  debt consolidation loan  credit-builder loan  home equity loan  student loan  mortgage loan  auto loan  personal loan  not specified  No Data  payday loan\n",
       "0  Scientist       Good                    No   High_spent_Small_value_payments                        0                    1                 1             0              0          1              1              0        0            0\n",
       "1  Scientist       Good                    No    Low_spent_Large_value_payments                        0                    1                 1             0              0          1              1              0        0            0\n",
       "2  Scientist       Good                    No   Low_spent_Medium_value_payments                        0                    1                 1             0              0          1              1              0        0            0\n",
       "3  Scientist       Good                    No    Low_spent_Small_value_payments                        0                    1                 1             0              0          1              1              0        0            0\n",
       "4  Scientist       Good                    No  High_spent_Medium_value_payments                        0                    1                 1             0              0          1              1              0        0            0"
      ]
     },
     "execution_count": 15,
     "metadata": {},
     "output_type": "execute_result"
    }
   ],
   "source": [
    "df_str = pd.concat([df_str, process_type_of_loan(df)], axis=1).drop('type_of_loan', axis=1)\n",
    "df_str.head()"
   ]
  },
  {
   "cell_type": "code",
   "execution_count": null,
   "id": "a9b95564",
   "metadata": {
    "execution": {
     "iopub.execute_input": "2023-10-12T13:26:38.127902Z",
     "iopub.status.busy": "2023-10-12T13:26:38.127209Z",
     "iopub.status.idle": "2023-10-12T13:26:38.166881Z",
     "shell.execute_reply": "2023-10-12T13:26:38.165769Z"
    },
    "papermill": {
     "duration": 0.062148,
     "end_time": "2023-10-12T13:26:38.169142",
     "exception": false,
     "start_time": "2023-10-12T13:26:38.106994",
     "status": "completed"
    },
    "tags": []
   },
   "outputs": [
    {
     "data": {
      "text/plain": [
       "occupation                 15\n",
       "credit_mix                  3\n",
       "payment_of_min_amount       3\n",
       "payment_behaviour           6\n",
       "debt consolidation loan     2\n",
       "credit-builder loan         2\n",
       "home equity loan            2\n",
       "student loan                2\n",
       "mortgage loan               2\n",
       "auto loan                   2\n",
       "personal loan               2\n",
       "not specified               2\n",
       "No Data                     2\n",
       "payday loan                 2\n",
       "dtype: int64"
      ]
     },
     "execution_count": 16,
     "metadata": {},
     "output_type": "execute_result"
    }
   ],
   "source": [
    "df_str.nunique()"
   ]
  },
  {
   "cell_type": "markdown",
   "id": "6187e7f8",
   "metadata": {
    "papermill": {
     "duration": 0.018705,
     "end_time": "2023-10-12T13:26:38.206717",
     "exception": false,
     "start_time": "2023-10-12T13:26:38.188012",
     "status": "completed"
    },
    "tags": []
   },
   "source": [
    "## create One-Hot_Encoded features from categorical features with `pd.get_dummies`"
   ]
  },
  {
   "cell_type": "code",
   "execution_count": null,
   "id": "5ba47f7d",
   "metadata": {
    "execution": {
     "iopub.execute_input": "2023-10-12T13:26:38.245334Z",
     "iopub.status.busy": "2023-10-12T13:26:38.244881Z",
     "iopub.status.idle": "2023-10-12T13:26:38.309487Z",
     "shell.execute_reply": "2023-10-12T13:26:38.308345Z"
    },
    "papermill": {
     "duration": 0.086127,
     "end_time": "2023-10-12T13:26:38.311610",
     "exception": false,
     "start_time": "2023-10-12T13:26:38.225483",
     "status": "completed"
    },
    "tags": []
   },
   "outputs": [
    {
     "data": {
      "text/html": [
       "<div>\n",
       "<style scoped>\n",
       "    .dataframe tbody tr th:only-of-type {\n",
       "        vertical-align: middle;\n",
       "    }\n",
       "\n",
       "    .dataframe tbody tr th {\n",
       "        vertical-align: top;\n",
       "    }\n",
       "\n",
       "    .dataframe thead th {\n",
       "        text-align: right;\n",
       "    }\n",
       "</style>\n",
       "<table border=\"1\" class=\"dataframe\">\n",
       "  <thead>\n",
       "    <tr style=\"text-align: right;\">\n",
       "      <th></th>\n",
       "      <th>debt consolidation loan</th>\n",
       "      <th>credit-builder loan</th>\n",
       "      <th>home equity loan</th>\n",
       "      <th>student loan</th>\n",
       "      <th>mortgage loan</th>\n",
       "      <th>auto loan</th>\n",
       "      <th>personal loan</th>\n",
       "      <th>not specified</th>\n",
       "      <th>No Data</th>\n",
       "      <th>payday loan</th>\n",
       "      <th>credit_mix_Bad</th>\n",
       "      <th>credit_mix_Good</th>\n",
       "      <th>credit_mix_Standard</th>\n",
       "      <th>payment_of_min_amount_NM</th>\n",
       "      <th>payment_of_min_amount_No</th>\n",
       "      <th>payment_of_min_amount_Yes</th>\n",
       "      <th>payment_behaviour_High_spent_Large_value_payments</th>\n",
       "      <th>payment_behaviour_High_spent_Medium_value_payments</th>\n",
       "      <th>payment_behaviour_High_spent_Small_value_payments</th>\n",
       "      <th>payment_behaviour_Low_spent_Large_value_payments</th>\n",
       "      <th>payment_behaviour_Low_spent_Medium_value_payments</th>\n",
       "      <th>payment_behaviour_Low_spent_Small_value_payments</th>\n",
       "    </tr>\n",
       "  </thead>\n",
       "  <tbody>\n",
       "    <tr>\n",
       "      <th>0</th>\n",
       "      <td>0</td>\n",
       "      <td>1</td>\n",
       "      <td>1</td>\n",
       "      <td>0</td>\n",
       "      <td>0</td>\n",
       "      <td>1</td>\n",
       "      <td>1</td>\n",
       "      <td>0</td>\n",
       "      <td>0</td>\n",
       "      <td>0</td>\n",
       "      <td>False</td>\n",
       "      <td>True</td>\n",
       "      <td>False</td>\n",
       "      <td>False</td>\n",
       "      <td>True</td>\n",
       "      <td>False</td>\n",
       "      <td>False</td>\n",
       "      <td>False</td>\n",
       "      <td>True</td>\n",
       "      <td>False</td>\n",
       "      <td>False</td>\n",
       "      <td>False</td>\n",
       "    </tr>\n",
       "    <tr>\n",
       "      <th>1</th>\n",
       "      <td>0</td>\n",
       "      <td>1</td>\n",
       "      <td>1</td>\n",
       "      <td>0</td>\n",
       "      <td>0</td>\n",
       "      <td>1</td>\n",
       "      <td>1</td>\n",
       "      <td>0</td>\n",
       "      <td>0</td>\n",
       "      <td>0</td>\n",
       "      <td>False</td>\n",
       "      <td>True</td>\n",
       "      <td>False</td>\n",
       "      <td>False</td>\n",
       "      <td>True</td>\n",
       "      <td>False</td>\n",
       "      <td>False</td>\n",
       "      <td>False</td>\n",
       "      <td>False</td>\n",
       "      <td>True</td>\n",
       "      <td>False</td>\n",
       "      <td>False</td>\n",
       "    </tr>\n",
       "    <tr>\n",
       "      <th>2</th>\n",
       "      <td>0</td>\n",
       "      <td>1</td>\n",
       "      <td>1</td>\n",
       "      <td>0</td>\n",
       "      <td>0</td>\n",
       "      <td>1</td>\n",
       "      <td>1</td>\n",
       "      <td>0</td>\n",
       "      <td>0</td>\n",
       "      <td>0</td>\n",
       "      <td>False</td>\n",
       "      <td>True</td>\n",
       "      <td>False</td>\n",
       "      <td>False</td>\n",
       "      <td>True</td>\n",
       "      <td>False</td>\n",
       "      <td>False</td>\n",
       "      <td>False</td>\n",
       "      <td>False</td>\n",
       "      <td>False</td>\n",
       "      <td>True</td>\n",
       "      <td>False</td>\n",
       "    </tr>\n",
       "    <tr>\n",
       "      <th>3</th>\n",
       "      <td>0</td>\n",
       "      <td>1</td>\n",
       "      <td>1</td>\n",
       "      <td>0</td>\n",
       "      <td>0</td>\n",
       "      <td>1</td>\n",
       "      <td>1</td>\n",
       "      <td>0</td>\n",
       "      <td>0</td>\n",
       "      <td>0</td>\n",
       "      <td>False</td>\n",
       "      <td>True</td>\n",
       "      <td>False</td>\n",
       "      <td>False</td>\n",
       "      <td>True</td>\n",
       "      <td>False</td>\n",
       "      <td>False</td>\n",
       "      <td>False</td>\n",
       "      <td>False</td>\n",
       "      <td>False</td>\n",
       "      <td>False</td>\n",
       "      <td>True</td>\n",
       "    </tr>\n",
       "    <tr>\n",
       "      <th>4</th>\n",
       "      <td>0</td>\n",
       "      <td>1</td>\n",
       "      <td>1</td>\n",
       "      <td>0</td>\n",
       "      <td>0</td>\n",
       "      <td>1</td>\n",
       "      <td>1</td>\n",
       "      <td>0</td>\n",
       "      <td>0</td>\n",
       "      <td>0</td>\n",
       "      <td>False</td>\n",
       "      <td>True</td>\n",
       "      <td>False</td>\n",
       "      <td>False</td>\n",
       "      <td>True</td>\n",
       "      <td>False</td>\n",
       "      <td>False</td>\n",
       "      <td>True</td>\n",
       "      <td>False</td>\n",
       "      <td>False</td>\n",
       "      <td>False</td>\n",
       "      <td>False</td>\n",
       "    </tr>\n",
       "  </tbody>\n",
       "</table>\n",
       "</div>"
      ],
      "text/plain": [
       "   debt consolidation loan  credit-builder loan  home equity loan  student loan  mortgage loan  auto loan  personal loan  not specified  No Data  payday loan  credit_mix_Bad  credit_mix_Good  credit_mix_Standard  payment_of_min_amount_NM  payment_of_min_amount_No  payment_of_min_amount_Yes  payment_behaviour_High_spent_Large_value_payments  payment_behaviour_High_spent_Medium_value_payments  payment_behaviour_High_spent_Small_value_payments  payment_behaviour_Low_spent_Large_value_payments  payment_behaviour_Low_spent_Medium_value_payments  payment_behaviour_Low_spent_Small_value_payments\n",
       "0                        0                    1                 1             0              0          1              1              0        0            0           False             True                False                     False                      True                      False                                              False                                              False                                                True                                             False                                              False                                             False\n",
       "1                        0                    1                 1             0              0          1              1              0        0            0           False             True                False                     False                      True                      False                                              False                                              False                                               False                                              True                                              False                                             False\n",
       "2                        0                    1                 1             0              0          1              1              0        0            0           False             True                False                     False                      True                      False                                              False                                              False                                               False                                             False                                               True                                             False\n",
       "3                        0                    1                 1             0              0          1              1              0        0            0           False             True                False                     False                      True                      False                                              False                                              False                                               False                                             False                                              False                                              True\n",
       "4                        0                    1                 1             0              0          1              1              0        0            0           False             True                False                     False                      True                      False                                              False                                               True                                               False                                             False                                              False                                             False"
      ]
     },
     "execution_count": 17,
     "metadata": {},
     "output_type": "execute_result"
    }
   ],
   "source": [
    "df_str = df_str.drop('occupation', axis=1)\n",
    "df_str = pd.get_dummies(df_str, drop_first=False)\n",
    "df_str.head()"
   ]
  },
  {
   "cell_type": "markdown",
   "id": "0093b404",
   "metadata": {
    "papermill": {
     "duration": 0.017959,
     "end_time": "2023-10-12T13:26:38.348084",
     "exception": false,
     "start_time": "2023-10-12T13:26:38.330125",
     "status": "completed"
    },
    "tags": []
   },
   "source": [
    "# Decision Tree Model"
   ]
  },
  {
   "cell_type": "markdown",
   "id": "bfabfde3",
   "metadata": {
    "papermill": {
     "duration": 0.017887,
     "end_time": "2023-10-12T13:26:38.384181",
     "exception": false,
     "start_time": "2023-10-12T13:26:38.366294",
     "status": "completed"
    },
    "tags": []
   },
   "source": [
    "## Using only numerical columns"
   ]
  },
  {
   "cell_type": "markdown",
   "id": "2b1ba805",
   "metadata": {
    "papermill": {
     "duration": 0.018194,
     "end_time": "2023-10-12T13:26:38.421407",
     "exception": false,
     "start_time": "2023-10-12T13:26:38.403213",
     "status": "completed"
    },
    "tags": []
   },
   "source": [
    "define the input and the outoput variables"
   ]
  },
  {
   "cell_type": "code",
   "execution_count": null,
   "id": "a67b2730",
   "metadata": {
    "execution": {
     "iopub.execute_input": "2023-10-12T13:26:38.460041Z",
     "iopub.status.busy": "2023-10-12T13:26:38.459305Z",
     "iopub.status.idle": "2023-10-12T13:26:38.464193Z",
     "shell.execute_reply": "2023-10-12T13:26:38.463447Z"
    },
    "papermill": {
     "duration": 0.026159,
     "end_time": "2023-10-12T13:26:38.466052",
     "exception": false,
     "start_time": "2023-10-12T13:26:38.439893",
     "status": "completed"
    },
    "tags": []
   },
   "outputs": [],
   "source": [
    "x = df_num\n",
    "y = df['credit_score']"
   ]
  },
  {
   "cell_type": "markdown",
   "id": "8239dcde",
   "metadata": {
    "papermill": {
     "duration": 0.018704,
     "end_time": "2023-10-12T13:26:38.503029",
     "exception": false,
     "start_time": "2023-10-12T13:26:38.484325",
     "status": "completed"
    },
    "tags": []
   },
   "source": [
    "split the data into `train` and `test` sets"
   ]
  },
  {
   "cell_type": "code",
   "execution_count": null,
   "id": "1b784917",
   "metadata": {
    "execution": {
     "iopub.execute_input": "2023-10-12T13:26:38.542623Z",
     "iopub.status.busy": "2023-10-12T13:26:38.542248Z",
     "iopub.status.idle": "2023-10-12T13:26:38.873251Z",
     "shell.execute_reply": "2023-10-12T13:26:38.872334Z"
    },
    "papermill": {
     "duration": 0.353705,
     "end_time": "2023-10-12T13:26:38.875583",
     "exception": false,
     "start_time": "2023-10-12T13:26:38.521878",
     "status": "completed"
    },
    "tags": []
   },
   "outputs": [],
   "source": [
    "from sklearn.model_selection import train_test_split\n",
    "\n",
    "x_train, x_test, y_train, y_test = train_test_split(x, y, test_size=0.2)"
   ]
  },
  {
   "cell_type": "markdown",
   "id": "b4fadc16",
   "metadata": {
    "papermill": {
     "duration": 0.018983,
     "end_time": "2023-10-12T13:26:38.913275",
     "exception": false,
     "start_time": "2023-10-12T13:26:38.894292",
     "status": "completed"
    },
    "tags": []
   },
   "source": [
    "define and train the model"
   ]
  },
  {
   "cell_type": "code",
   "execution_count": null,
   "id": "9109e46e",
   "metadata": {
    "execution": {
     "iopub.execute_input": "2023-10-12T13:26:38.952465Z",
     "iopub.status.busy": "2023-10-12T13:26:38.952101Z",
     "iopub.status.idle": "2023-10-12T13:26:41.053176Z",
     "shell.execute_reply": "2023-10-12T13:26:41.052093Z"
    },
    "papermill": {
     "duration": 2.123206,
     "end_time": "2023-10-12T13:26:41.055340",
     "exception": false,
     "start_time": "2023-10-12T13:26:38.932134",
     "status": "completed"
    },
    "tags": []
   },
   "outputs": [
    {
     "data": {
      "text/html": [
       "<style>#sk-container-id-1 {color: black;background-color: white;}#sk-container-id-1 pre{padding: 0;}#sk-container-id-1 div.sk-toggleable {background-color: white;}#sk-container-id-1 label.sk-toggleable__label {cursor: pointer;display: block;width: 100%;margin-bottom: 0;padding: 0.3em;box-sizing: border-box;text-align: center;}#sk-container-id-1 label.sk-toggleable__label-arrow:before {content: \"▸\";float: left;margin-right: 0.25em;color: #696969;}#sk-container-id-1 label.sk-toggleable__label-arrow:hover:before {color: black;}#sk-container-id-1 div.sk-estimator:hover label.sk-toggleable__label-arrow:before {color: black;}#sk-container-id-1 div.sk-toggleable__content {max-height: 0;max-width: 0;overflow: hidden;text-align: left;background-color: #f0f8ff;}#sk-container-id-1 div.sk-toggleable__content pre {margin: 0.2em;color: black;border-radius: 0.25em;background-color: #f0f8ff;}#sk-container-id-1 input.sk-toggleable__control:checked~div.sk-toggleable__content {max-height: 200px;max-width: 100%;overflow: auto;}#sk-container-id-1 input.sk-toggleable__control:checked~label.sk-toggleable__label-arrow:before {content: \"▾\";}#sk-container-id-1 div.sk-estimator input.sk-toggleable__control:checked~label.sk-toggleable__label {background-color: #d4ebff;}#sk-container-id-1 div.sk-label input.sk-toggleable__control:checked~label.sk-toggleable__label {background-color: #d4ebff;}#sk-container-id-1 input.sk-hidden--visually {border: 0;clip: rect(1px 1px 1px 1px);clip: rect(1px, 1px, 1px, 1px);height: 1px;margin: -1px;overflow: hidden;padding: 0;position: absolute;width: 1px;}#sk-container-id-1 div.sk-estimator {font-family: monospace;background-color: #f0f8ff;border: 1px dotted black;border-radius: 0.25em;box-sizing: border-box;margin-bottom: 0.5em;}#sk-container-id-1 div.sk-estimator:hover {background-color: #d4ebff;}#sk-container-id-1 div.sk-parallel-item::after {content: \"\";width: 100%;border-bottom: 1px solid gray;flex-grow: 1;}#sk-container-id-1 div.sk-label:hover label.sk-toggleable__label {background-color: #d4ebff;}#sk-container-id-1 div.sk-serial::before {content: \"\";position: absolute;border-left: 1px solid gray;box-sizing: border-box;top: 0;bottom: 0;left: 50%;z-index: 0;}#sk-container-id-1 div.sk-serial {display: flex;flex-direction: column;align-items: center;background-color: white;padding-right: 0.2em;padding-left: 0.2em;position: relative;}#sk-container-id-1 div.sk-item {position: relative;z-index: 1;}#sk-container-id-1 div.sk-parallel {display: flex;align-items: stretch;justify-content: center;background-color: white;position: relative;}#sk-container-id-1 div.sk-item::before, #sk-container-id-1 div.sk-parallel-item::before {content: \"\";position: absolute;border-left: 1px solid gray;box-sizing: border-box;top: 0;bottom: 0;left: 50%;z-index: -1;}#sk-container-id-1 div.sk-parallel-item {display: flex;flex-direction: column;z-index: 1;position: relative;background-color: white;}#sk-container-id-1 div.sk-parallel-item:first-child::after {align-self: flex-end;width: 50%;}#sk-container-id-1 div.sk-parallel-item:last-child::after {align-self: flex-start;width: 50%;}#sk-container-id-1 div.sk-parallel-item:only-child::after {width: 0;}#sk-container-id-1 div.sk-dashed-wrapped {border: 1px dashed gray;margin: 0 0.4em 0.5em 0.4em;box-sizing: border-box;padding-bottom: 0.4em;background-color: white;}#sk-container-id-1 div.sk-label label {font-family: monospace;font-weight: bold;display: inline-block;line-height: 1.2em;}#sk-container-id-1 div.sk-label-container {text-align: center;}#sk-container-id-1 div.sk-container {/* jupyter's `normalize.less` sets `[hidden] { display: none; }` but bootstrap.min.css set `[hidden] { display: none !important; }` so we also need the `!important` here to be able to override the default hidden behavior on the sphinx rendered scikit-learn.org. See: https://github.com/scikit-learn/scikit-learn/issues/21755 */display: inline-block !important;position: relative;}#sk-container-id-1 div.sk-text-repr-fallback {display: none;}</style><div id=\"sk-container-id-1\" class=\"sk-top-container\"><div class=\"sk-text-repr-fallback\"><pre>DecisionTreeClassifier()</pre><b>In a Jupyter environment, please rerun this cell to show the HTML representation or trust the notebook. <br />On GitHub, the HTML representation is unable to render, please try loading this page with nbviewer.org.</b></div><div class=\"sk-container\" hidden><div class=\"sk-item\"><div class=\"sk-estimator sk-toggleable\"><input class=\"sk-toggleable__control sk-hidden--visually\" id=\"sk-estimator-id-1\" type=\"checkbox\" checked><label for=\"sk-estimator-id-1\" class=\"sk-toggleable__label sk-toggleable__label-arrow\">DecisionTreeClassifier</label><div class=\"sk-toggleable__content\"><pre>DecisionTreeClassifier()</pre></div></div></div></div></div>"
      ],
      "text/plain": [
       "DecisionTreeClassifier()"
      ]
     },
     "execution_count": 20,
     "metadata": {},
     "output_type": "execute_result"
    }
   ],
   "source": [
    "from sklearn.tree import DecisionTreeClassifier as DT\n",
    "\n",
    "dt = DT()\n",
    "dt.fit(x_train, y_train)"
   ]
  },
  {
   "cell_type": "markdown",
   "id": "69b7b00c",
   "metadata": {
    "papermill": {
     "duration": 0.019485,
     "end_time": "2023-10-12T13:26:41.095046",
     "exception": false,
     "start_time": "2023-10-12T13:26:41.075561",
     "status": "completed"
    },
    "tags": []
   },
   "source": [
    "evaluate the model on bith training and testing sets"
   ]
  },
  {
   "cell_type": "code",
   "execution_count": null,
   "id": "991f769c",
   "metadata": {
    "execution": {
     "iopub.execute_input": "2023-10-12T13:26:41.137644Z",
     "iopub.status.busy": "2023-10-12T13:26:41.136569Z",
     "iopub.status.idle": "2023-10-12T13:26:41.326356Z",
     "shell.execute_reply": "2023-10-12T13:26:41.325278Z"
    },
    "papermill": {
     "duration": 0.213489,
     "end_time": "2023-10-12T13:26:41.328592",
     "exception": false,
     "start_time": "2023-10-12T13:26:41.115103",
     "status": "completed"
    },
    "tags": []
   },
   "outputs": [
    {
     "data": {
      "text/plain": [
       "(1.0, 0.73925)"
      ]
     },
     "execution_count": 21,
     "metadata": {},
     "output_type": "execute_result"
    }
   ],
   "source": [
    "dt.score(x_train, y_train), dt.score(x_test, y_test)"
   ]
  },
  {
   "cell_type": "markdown",
   "id": "c1cdd649",
   "metadata": {
    "papermill": {
     "duration": 0.019553,
     "end_time": "2023-10-12T13:26:41.367667",
     "exception": false,
     "start_time": "2023-10-12T13:26:41.348114",
     "status": "completed"
    },
    "tags": []
   },
   "source": [
    "check feature importance"
   ]
  },
  {
   "cell_type": "code",
   "execution_count": null,
   "id": "8176d27d",
   "metadata": {
    "execution": {
     "iopub.execute_input": "2023-10-12T13:26:41.409056Z",
     "iopub.status.busy": "2023-10-12T13:26:41.408171Z",
     "iopub.status.idle": "2023-10-12T13:26:41.426401Z",
     "shell.execute_reply": "2023-10-12T13:26:41.425314Z"
    },
    "papermill": {
     "duration": 0.040918,
     "end_time": "2023-10-12T13:26:41.428270",
     "exception": false,
     "start_time": "2023-10-12T13:26:41.387352",
     "status": "completed"
    },
    "tags": []
   },
   "outputs": [
    {
     "data": {
      "text/html": [
       "<div>\n",
       "<style scoped>\n",
       "    .dataframe tbody tr th:only-of-type {\n",
       "        vertical-align: middle;\n",
       "    }\n",
       "\n",
       "    .dataframe tbody tr th {\n",
       "        vertical-align: top;\n",
       "    }\n",
       "\n",
       "    .dataframe thead th {\n",
       "        text-align: right;\n",
       "    }\n",
       "</style>\n",
       "<table border=\"1\" class=\"dataframe\">\n",
       "  <thead>\n",
       "    <tr style=\"text-align: right;\">\n",
       "      <th></th>\n",
       "      <th>outstanding_debt</th>\n",
       "      <th>credit_history_age</th>\n",
       "      <th>interest_rate</th>\n",
       "      <th>monthly_balance</th>\n",
       "      <th>credit_utilization_ratio</th>\n",
       "      <th>changed_credit_limit</th>\n",
       "      <th>num_credit_card</th>\n",
       "      <th>num_of_delayed_payment</th>\n",
       "      <th>delay_from_due_date</th>\n",
       "      <th>monthly_inhand_salary</th>\n",
       "      <th>total_emi_per_month</th>\n",
       "      <th>amount_invested_monthly</th>\n",
       "      <th>age</th>\n",
       "      <th>num_credit_inquiries</th>\n",
       "      <th>num_bank_accounts</th>\n",
       "      <th>num_of_loan</th>\n",
       "    </tr>\n",
       "  </thead>\n",
       "  <tbody>\n",
       "    <tr>\n",
       "      <th>0</th>\n",
       "      <td>0.168511</td>\n",
       "      <td>0.11226</td>\n",
       "      <td>0.082742</td>\n",
       "      <td>0.077307</td>\n",
       "      <td>0.075544</td>\n",
       "      <td>0.065348</td>\n",
       "      <td>0.059733</td>\n",
       "      <td>0.056037</td>\n",
       "      <td>0.0531</td>\n",
       "      <td>0.046444</td>\n",
       "      <td>0.044965</td>\n",
       "      <td>0.044645</td>\n",
       "      <td>0.040007</td>\n",
       "      <td>0.030709</td>\n",
       "      <td>0.029588</td>\n",
       "      <td>0.013062</td>\n",
       "    </tr>\n",
       "  </tbody>\n",
       "</table>\n",
       "</div>"
      ],
      "text/plain": [
       "   outstanding_debt  credit_history_age  interest_rate  monthly_balance  credit_utilization_ratio  changed_credit_limit  num_credit_card  num_of_delayed_payment  delay_from_due_date  monthly_inhand_salary  total_emi_per_month  amount_invested_monthly       age  num_credit_inquiries  num_bank_accounts  num_of_loan\n",
       "0          0.168511             0.11226       0.082742         0.077307                  0.075544              0.065348         0.059733                0.056037               0.0531               0.046444             0.044965                 0.044645  0.040007              0.030709           0.029588     0.013062"
      ]
     },
     "execution_count": 22,
     "metadata": {},
     "output_type": "execute_result"
    }
   ],
   "source": [
    "pd.DataFrame(dt.feature_importances_, index=x.columns).T.sort_values(by=0, axis=1, ascending=False)"
   ]
  },
  {
   "cell_type": "markdown",
   "id": "a6b13136",
   "metadata": {
    "papermill": {
     "duration": 0.019573,
     "end_time": "2023-10-12T13:26:41.467574",
     "exception": false,
     "start_time": "2023-10-12T13:26:41.448001",
     "status": "completed"
    },
    "tags": []
   },
   "source": [
    "## Using Categorical Columns"
   ]
  },
  {
   "cell_type": "code",
   "execution_count": null,
   "id": "e7b326a6",
   "metadata": {
    "execution": {
     "iopub.execute_input": "2023-10-12T13:26:41.508991Z",
     "iopub.status.busy": "2023-10-12T13:26:41.508133Z",
     "iopub.status.idle": "2023-10-12T13:26:41.838289Z",
     "shell.execute_reply": "2023-10-12T13:26:41.837348Z"
    },
    "papermill": {
     "duration": 0.352985,
     "end_time": "2023-10-12T13:26:41.840292",
     "exception": false,
     "start_time": "2023-10-12T13:26:41.487307",
     "status": "completed"
    },
    "tags": []
   },
   "outputs": [
    {
     "data": {
      "text/html": [
       "<style>#sk-container-id-2 {color: black;background-color: white;}#sk-container-id-2 pre{padding: 0;}#sk-container-id-2 div.sk-toggleable {background-color: white;}#sk-container-id-2 label.sk-toggleable__label {cursor: pointer;display: block;width: 100%;margin-bottom: 0;padding: 0.3em;box-sizing: border-box;text-align: center;}#sk-container-id-2 label.sk-toggleable__label-arrow:before {content: \"▸\";float: left;margin-right: 0.25em;color: #696969;}#sk-container-id-2 label.sk-toggleable__label-arrow:hover:before {color: black;}#sk-container-id-2 div.sk-estimator:hover label.sk-toggleable__label-arrow:before {color: black;}#sk-container-id-2 div.sk-toggleable__content {max-height: 0;max-width: 0;overflow: hidden;text-align: left;background-color: #f0f8ff;}#sk-container-id-2 div.sk-toggleable__content pre {margin: 0.2em;color: black;border-radius: 0.25em;background-color: #f0f8ff;}#sk-container-id-2 input.sk-toggleable__control:checked~div.sk-toggleable__content {max-height: 200px;max-width: 100%;overflow: auto;}#sk-container-id-2 input.sk-toggleable__control:checked~label.sk-toggleable__label-arrow:before {content: \"▾\";}#sk-container-id-2 div.sk-estimator input.sk-toggleable__control:checked~label.sk-toggleable__label {background-color: #d4ebff;}#sk-container-id-2 div.sk-label input.sk-toggleable__control:checked~label.sk-toggleable__label {background-color: #d4ebff;}#sk-container-id-2 input.sk-hidden--visually {border: 0;clip: rect(1px 1px 1px 1px);clip: rect(1px, 1px, 1px, 1px);height: 1px;margin: -1px;overflow: hidden;padding: 0;position: absolute;width: 1px;}#sk-container-id-2 div.sk-estimator {font-family: monospace;background-color: #f0f8ff;border: 1px dotted black;border-radius: 0.25em;box-sizing: border-box;margin-bottom: 0.5em;}#sk-container-id-2 div.sk-estimator:hover {background-color: #d4ebff;}#sk-container-id-2 div.sk-parallel-item::after {content: \"\";width: 100%;border-bottom: 1px solid gray;flex-grow: 1;}#sk-container-id-2 div.sk-label:hover label.sk-toggleable__label {background-color: #d4ebff;}#sk-container-id-2 div.sk-serial::before {content: \"\";position: absolute;border-left: 1px solid gray;box-sizing: border-box;top: 0;bottom: 0;left: 50%;z-index: 0;}#sk-container-id-2 div.sk-serial {display: flex;flex-direction: column;align-items: center;background-color: white;padding-right: 0.2em;padding-left: 0.2em;position: relative;}#sk-container-id-2 div.sk-item {position: relative;z-index: 1;}#sk-container-id-2 div.sk-parallel {display: flex;align-items: stretch;justify-content: center;background-color: white;position: relative;}#sk-container-id-2 div.sk-item::before, #sk-container-id-2 div.sk-parallel-item::before {content: \"\";position: absolute;border-left: 1px solid gray;box-sizing: border-box;top: 0;bottom: 0;left: 50%;z-index: -1;}#sk-container-id-2 div.sk-parallel-item {display: flex;flex-direction: column;z-index: 1;position: relative;background-color: white;}#sk-container-id-2 div.sk-parallel-item:first-child::after {align-self: flex-end;width: 50%;}#sk-container-id-2 div.sk-parallel-item:last-child::after {align-self: flex-start;width: 50%;}#sk-container-id-2 div.sk-parallel-item:only-child::after {width: 0;}#sk-container-id-2 div.sk-dashed-wrapped {border: 1px dashed gray;margin: 0 0.4em 0.5em 0.4em;box-sizing: border-box;padding-bottom: 0.4em;background-color: white;}#sk-container-id-2 div.sk-label label {font-family: monospace;font-weight: bold;display: inline-block;line-height: 1.2em;}#sk-container-id-2 div.sk-label-container {text-align: center;}#sk-container-id-2 div.sk-container {/* jupyter's `normalize.less` sets `[hidden] { display: none; }` but bootstrap.min.css set `[hidden] { display: none !important; }` so we also need the `!important` here to be able to override the default hidden behavior on the sphinx rendered scikit-learn.org. See: https://github.com/scikit-learn/scikit-learn/issues/21755 */display: inline-block !important;position: relative;}#sk-container-id-2 div.sk-text-repr-fallback {display: none;}</style><div id=\"sk-container-id-2\" class=\"sk-top-container\"><div class=\"sk-text-repr-fallback\"><pre>DecisionTreeClassifier()</pre><b>In a Jupyter environment, please rerun this cell to show the HTML representation or trust the notebook. <br />On GitHub, the HTML representation is unable to render, please try loading this page with nbviewer.org.</b></div><div class=\"sk-container\" hidden><div class=\"sk-item\"><div class=\"sk-estimator sk-toggleable\"><input class=\"sk-toggleable__control sk-hidden--visually\" id=\"sk-estimator-id-2\" type=\"checkbox\" checked><label for=\"sk-estimator-id-2\" class=\"sk-toggleable__label sk-toggleable__label-arrow\">DecisionTreeClassifier</label><div class=\"sk-toggleable__content\"><pre>DecisionTreeClassifier()</pre></div></div></div></div></div>"
      ],
      "text/plain": [
       "DecisionTreeClassifier()"
      ]
     },
     "execution_count": 23,
     "metadata": {},
     "output_type": "execute_result"
    }
   ],
   "source": [
    "x = df_str\n",
    "y = df['credit_score']\n",
    "\n",
    "x_train, x_test, y_train, y_test = train_test_split(x, y, test_size=0.2)\n",
    "\n",
    "dt = DT()\n",
    "dt.fit(x_train, y_train)"
   ]
  },
  {
   "cell_type": "code",
   "execution_count": null,
   "id": "d5ef9a08",
   "metadata": {
    "execution": {
     "iopub.execute_input": "2023-10-12T13:26:41.883893Z",
     "iopub.status.busy": "2023-10-12T13:26:41.883053Z",
     "iopub.status.idle": "2023-10-12T13:26:42.068130Z",
     "shell.execute_reply": "2023-10-12T13:26:42.067183Z"
    },
    "papermill": {
     "duration": 0.208799,
     "end_time": "2023-10-12T13:26:42.070449",
     "exception": false,
     "start_time": "2023-10-12T13:26:41.861650",
     "status": "completed"
    },
    "tags": []
   },
   "outputs": [
    {
     "data": {
      "text/plain": [
       "(0.6978, 0.6155)"
      ]
     },
     "execution_count": 24,
     "metadata": {},
     "output_type": "execute_result"
    }
   ],
   "source": [
    "dt.score(x_train, y_train), dt.score(x_test, y_test)"
   ]
  },
  {
   "cell_type": "code",
   "execution_count": null,
   "id": "5fa9347e",
   "metadata": {
    "execution": {
     "iopub.execute_input": "2023-10-12T13:26:42.113512Z",
     "iopub.status.busy": "2023-10-12T13:26:42.112875Z",
     "iopub.status.idle": "2023-10-12T13:26:42.132591Z",
     "shell.execute_reply": "2023-10-12T13:26:42.131556Z"
    },
    "papermill": {
     "duration": 0.043997,
     "end_time": "2023-10-12T13:26:42.134874",
     "exception": false,
     "start_time": "2023-10-12T13:26:42.090877",
     "status": "completed"
    },
    "tags": []
   },
   "outputs": [
    {
     "data": {
      "text/html": [
       "<div>\n",
       "<style scoped>\n",
       "    .dataframe tbody tr th:only-of-type {\n",
       "        vertical-align: middle;\n",
       "    }\n",
       "\n",
       "    .dataframe tbody tr th {\n",
       "        vertical-align: top;\n",
       "    }\n",
       "\n",
       "    .dataframe thead th {\n",
       "        text-align: right;\n",
       "    }\n",
       "</style>\n",
       "<table border=\"1\" class=\"dataframe\">\n",
       "  <thead>\n",
       "    <tr style=\"text-align: right;\">\n",
       "      <th></th>\n",
       "      <th>credit_mix_Good</th>\n",
       "      <th>credit_mix_Bad</th>\n",
       "      <th>mortgage loan</th>\n",
       "      <th>not specified</th>\n",
       "      <th>payday loan</th>\n",
       "      <th>personal loan</th>\n",
       "      <th>credit-builder loan</th>\n",
       "      <th>home equity loan</th>\n",
       "      <th>payment_of_min_amount_No</th>\n",
       "      <th>student loan</th>\n",
       "      <th>auto loan</th>\n",
       "      <th>payment_of_min_amount_NM</th>\n",
       "      <th>payment_behaviour_High_spent_Medium_value_payments</th>\n",
       "      <th>payment_behaviour_Low_spent_Medium_value_payments</th>\n",
       "      <th>debt consolidation loan</th>\n",
       "      <th>payment_behaviour_High_spent_Small_value_payments</th>\n",
       "      <th>payment_of_min_amount_Yes</th>\n",
       "      <th>payment_behaviour_Low_spent_Large_value_payments</th>\n",
       "      <th>payment_behaviour_High_spent_Large_value_payments</th>\n",
       "      <th>payment_behaviour_Low_spent_Small_value_payments</th>\n",
       "      <th>No Data</th>\n",
       "      <th>credit_mix_Standard</th>\n",
       "    </tr>\n",
       "  </thead>\n",
       "  <tbody>\n",
       "    <tr>\n",
       "      <th>0</th>\n",
       "      <td>0.296464</td>\n",
       "      <td>0.196193</td>\n",
       "      <td>0.041608</td>\n",
       "      <td>0.038952</td>\n",
       "      <td>0.038178</td>\n",
       "      <td>0.036208</td>\n",
       "      <td>0.03485</td>\n",
       "      <td>0.031382</td>\n",
       "      <td>0.029604</td>\n",
       "      <td>0.026845</td>\n",
       "      <td>0.024656</td>\n",
       "      <td>0.024577</td>\n",
       "      <td>0.023767</td>\n",
       "      <td>0.023407</td>\n",
       "      <td>0.021682</td>\n",
       "      <td>0.021519</td>\n",
       "      <td>0.019995</td>\n",
       "      <td>0.019711</td>\n",
       "      <td>0.019267</td>\n",
       "      <td>0.018255</td>\n",
       "      <td>0.012879</td>\n",
       "      <td>0.0</td>\n",
       "    </tr>\n",
       "  </tbody>\n",
       "</table>\n",
       "</div>"
      ],
      "text/plain": [
       "   credit_mix_Good  credit_mix_Bad  mortgage loan  not specified  payday loan  personal loan  credit-builder loan  home equity loan  payment_of_min_amount_No  student loan  auto loan  payment_of_min_amount_NM  payment_behaviour_High_spent_Medium_value_payments  payment_behaviour_Low_spent_Medium_value_payments  debt consolidation loan  payment_behaviour_High_spent_Small_value_payments  payment_of_min_amount_Yes  payment_behaviour_Low_spent_Large_value_payments  payment_behaviour_High_spent_Large_value_payments  payment_behaviour_Low_spent_Small_value_payments   No Data  credit_mix_Standard\n",
       "0         0.296464        0.196193       0.041608       0.038952     0.038178       0.036208              0.03485          0.031382                  0.029604      0.026845   0.024656                  0.024577                                           0.023767                                            0.023407                 0.021682                                           0.021519                   0.019995                                          0.019711                                           0.019267                                          0.018255  0.012879                  0.0"
      ]
     },
     "execution_count": 25,
     "metadata": {},
     "output_type": "execute_result"
    }
   ],
   "source": [
    "pd.DataFrame(dt.feature_importances_, index=x.columns).T.sort_values(by=0, axis=1, ascending=False)"
   ]
  },
  {
   "cell_type": "markdown",
   "id": "ff6a00c1",
   "metadata": {
    "papermill": {
     "duration": 0.021091,
     "end_time": "2023-10-12T13:26:42.176756",
     "exception": false,
     "start_time": "2023-10-12T13:26:42.155665",
     "status": "completed"
    },
    "tags": []
   },
   "source": [
    "## Using all columns"
   ]
  },
  {
   "cell_type": "code",
   "execution_count": null,
   "id": "72100d2c",
   "metadata": {
    "execution": {
     "iopub.execute_input": "2023-10-12T13:26:42.220537Z",
     "iopub.status.busy": "2023-10-12T13:26:42.220152Z",
     "iopub.status.idle": "2023-10-12T13:26:44.557425Z",
     "shell.execute_reply": "2023-10-12T13:26:44.556449Z"
    },
    "papermill": {
     "duration": 2.361955,
     "end_time": "2023-10-12T13:26:44.559570",
     "exception": false,
     "start_time": "2023-10-12T13:26:42.197615",
     "status": "completed"
    },
    "tags": []
   },
   "outputs": [
    {
     "data": {
      "text/html": [
       "<style>#sk-container-id-3 {color: black;background-color: white;}#sk-container-id-3 pre{padding: 0;}#sk-container-id-3 div.sk-toggleable {background-color: white;}#sk-container-id-3 label.sk-toggleable__label {cursor: pointer;display: block;width: 100%;margin-bottom: 0;padding: 0.3em;box-sizing: border-box;text-align: center;}#sk-container-id-3 label.sk-toggleable__label-arrow:before {content: \"▸\";float: left;margin-right: 0.25em;color: #696969;}#sk-container-id-3 label.sk-toggleable__label-arrow:hover:before {color: black;}#sk-container-id-3 div.sk-estimator:hover label.sk-toggleable__label-arrow:before {color: black;}#sk-container-id-3 div.sk-toggleable__content {max-height: 0;max-width: 0;overflow: hidden;text-align: left;background-color: #f0f8ff;}#sk-container-id-3 div.sk-toggleable__content pre {margin: 0.2em;color: black;border-radius: 0.25em;background-color: #f0f8ff;}#sk-container-id-3 input.sk-toggleable__control:checked~div.sk-toggleable__content {max-height: 200px;max-width: 100%;overflow: auto;}#sk-container-id-3 input.sk-toggleable__control:checked~label.sk-toggleable__label-arrow:before {content: \"▾\";}#sk-container-id-3 div.sk-estimator input.sk-toggleable__control:checked~label.sk-toggleable__label {background-color: #d4ebff;}#sk-container-id-3 div.sk-label input.sk-toggleable__control:checked~label.sk-toggleable__label {background-color: #d4ebff;}#sk-container-id-3 input.sk-hidden--visually {border: 0;clip: rect(1px 1px 1px 1px);clip: rect(1px, 1px, 1px, 1px);height: 1px;margin: -1px;overflow: hidden;padding: 0;position: absolute;width: 1px;}#sk-container-id-3 div.sk-estimator {font-family: monospace;background-color: #f0f8ff;border: 1px dotted black;border-radius: 0.25em;box-sizing: border-box;margin-bottom: 0.5em;}#sk-container-id-3 div.sk-estimator:hover {background-color: #d4ebff;}#sk-container-id-3 div.sk-parallel-item::after {content: \"\";width: 100%;border-bottom: 1px solid gray;flex-grow: 1;}#sk-container-id-3 div.sk-label:hover label.sk-toggleable__label {background-color: #d4ebff;}#sk-container-id-3 div.sk-serial::before {content: \"\";position: absolute;border-left: 1px solid gray;box-sizing: border-box;top: 0;bottom: 0;left: 50%;z-index: 0;}#sk-container-id-3 div.sk-serial {display: flex;flex-direction: column;align-items: center;background-color: white;padding-right: 0.2em;padding-left: 0.2em;position: relative;}#sk-container-id-3 div.sk-item {position: relative;z-index: 1;}#sk-container-id-3 div.sk-parallel {display: flex;align-items: stretch;justify-content: center;background-color: white;position: relative;}#sk-container-id-3 div.sk-item::before, #sk-container-id-3 div.sk-parallel-item::before {content: \"\";position: absolute;border-left: 1px solid gray;box-sizing: border-box;top: 0;bottom: 0;left: 50%;z-index: -1;}#sk-container-id-3 div.sk-parallel-item {display: flex;flex-direction: column;z-index: 1;position: relative;background-color: white;}#sk-container-id-3 div.sk-parallel-item:first-child::after {align-self: flex-end;width: 50%;}#sk-container-id-3 div.sk-parallel-item:last-child::after {align-self: flex-start;width: 50%;}#sk-container-id-3 div.sk-parallel-item:only-child::after {width: 0;}#sk-container-id-3 div.sk-dashed-wrapped {border: 1px dashed gray;margin: 0 0.4em 0.5em 0.4em;box-sizing: border-box;padding-bottom: 0.4em;background-color: white;}#sk-container-id-3 div.sk-label label {font-family: monospace;font-weight: bold;display: inline-block;line-height: 1.2em;}#sk-container-id-3 div.sk-label-container {text-align: center;}#sk-container-id-3 div.sk-container {/* jupyter's `normalize.less` sets `[hidden] { display: none; }` but bootstrap.min.css set `[hidden] { display: none !important; }` so we also need the `!important` here to be able to override the default hidden behavior on the sphinx rendered scikit-learn.org. See: https://github.com/scikit-learn/scikit-learn/issues/21755 */display: inline-block !important;position: relative;}#sk-container-id-3 div.sk-text-repr-fallback {display: none;}</style><div id=\"sk-container-id-3\" class=\"sk-top-container\"><div class=\"sk-text-repr-fallback\"><pre>DecisionTreeClassifier()</pre><b>In a Jupyter environment, please rerun this cell to show the HTML representation or trust the notebook. <br />On GitHub, the HTML representation is unable to render, please try loading this page with nbviewer.org.</b></div><div class=\"sk-container\" hidden><div class=\"sk-item\"><div class=\"sk-estimator sk-toggleable\"><input class=\"sk-toggleable__control sk-hidden--visually\" id=\"sk-estimator-id-3\" type=\"checkbox\" checked><label for=\"sk-estimator-id-3\" class=\"sk-toggleable__label sk-toggleable__label-arrow\">DecisionTreeClassifier</label><div class=\"sk-toggleable__content\"><pre>DecisionTreeClassifier()</pre></div></div></div></div></div>"
      ],
      "text/plain": [
       "DecisionTreeClassifier()"
      ]
     },
     "execution_count": 26,
     "metadata": {},
     "output_type": "execute_result"
    }
   ],
   "source": [
    "x = pd.concat([df_str, df_num], axis=1)\n",
    "y = df['credit_score']\n",
    "\n",
    "x_train, x_test, y_train, y_test = train_test_split(x, y, test_size=0.2)\n",
    "\n",
    "dt = DT()\n",
    "dt.fit(x_train, y_train)"
   ]
  },
  {
   "cell_type": "code",
   "execution_count": null,
   "id": "62c99b9a",
   "metadata": {
    "execution": {
     "iopub.execute_input": "2023-10-12T13:26:44.604588Z",
     "iopub.status.busy": "2023-10-12T13:26:44.604200Z",
     "iopub.status.idle": "2023-10-12T13:26:44.805765Z",
     "shell.execute_reply": "2023-10-12T13:26:44.804723Z"
    },
    "papermill": {
     "duration": 0.226178,
     "end_time": "2023-10-12T13:26:44.807777",
     "exception": false,
     "start_time": "2023-10-12T13:26:44.581599",
     "status": "completed"
    },
    "tags": []
   },
   "outputs": [
    {
     "data": {
      "text/plain": [
       "(1.0, 0.7469)"
      ]
     },
     "execution_count": 27,
     "metadata": {},
     "output_type": "execute_result"
    }
   ],
   "source": [
    "dt.score(x_train, y_train), dt.score(x_test, y_test)"
   ]
  },
  {
   "cell_type": "code",
   "execution_count": null,
   "id": "a6ceae3e",
   "metadata": {
    "execution": {
     "iopub.execute_input": "2023-10-12T13:26:44.852630Z",
     "iopub.status.busy": "2023-10-12T13:26:44.852291Z",
     "iopub.status.idle": "2023-10-12T13:26:44.867364Z",
     "shell.execute_reply": "2023-10-12T13:26:44.866369Z"
    },
    "papermill": {
     "duration": 0.040319,
     "end_time": "2023-10-12T13:26:44.869662",
     "exception": false,
     "start_time": "2023-10-12T13:26:44.829343",
     "status": "completed"
    },
    "tags": []
   },
   "outputs": [],
   "source": [
    "y_pred = dt.predict(x_test)"
   ]
  },
  {
   "cell_type": "markdown",
   "id": "295ed99e",
   "metadata": {
    "papermill": {
     "duration": 0.020645,
     "end_time": "2023-10-12T13:26:44.911931",
     "exception": false,
     "start_time": "2023-10-12T13:26:44.891286",
     "status": "completed"
    },
    "tags": []
   },
   "source": [
    "## More Metrics"
   ]
  },
  {
   "cell_type": "code",
   "execution_count": null,
   "id": "73f589ee",
   "metadata": {
    "execution": {
     "iopub.execute_input": "2023-10-12T13:26:44.956139Z",
     "iopub.status.busy": "2023-10-12T13:26:44.955794Z",
     "iopub.status.idle": "2023-10-12T13:26:45.334282Z",
     "shell.execute_reply": "2023-10-12T13:26:45.333225Z"
    },
    "papermill": {
     "duration": 0.403397,
     "end_time": "2023-10-12T13:26:45.336517",
     "exception": false,
     "start_time": "2023-10-12T13:26:44.933120",
     "status": "completed"
    },
    "tags": []
   },
   "outputs": [
    {
     "name": "stdout",
     "output_type": "stream",
     "text": [
      "Accuracy: 0.7469\n",
      "Precision: 0.734430548849196\n",
      "Recall: 0.7337525256701865\n"
     ]
    }
   ],
   "source": [
    "from sklearn.metrics import *\n",
    "\n",
    "accuracy = accuracy_score(y_test, y_pred)\n",
    "precision = precision_score(y_test, y_pred, average='macro')\n",
    "recall = recall_score(y_test, y_pred, average='macro')\n",
    "\n",
    "print(\"Accuracy:\", accuracy)\n",
    "print(\"Precision:\", precision)\n",
    "print(\"Recall:\", recall)"
   ]
  },
  {
   "cell_type": "code",
   "execution_count": null,
   "id": "8d6527c6",
   "metadata": {
    "execution": {
     "iopub.execute_input": "2023-10-12T13:26:45.380692Z",
     "iopub.status.busy": "2023-10-12T13:26:45.380286Z",
     "iopub.status.idle": "2023-10-12T13:26:45.409887Z",
     "shell.execute_reply": "2023-10-12T13:26:45.409065Z"
    },
    "papermill": {
     "duration": 0.054173,
     "end_time": "2023-10-12T13:26:45.412015",
     "exception": false,
     "start_time": "2023-10-12T13:26:45.357842",
     "status": "completed"
    },
    "tags": []
   },
   "outputs": [
    {
     "data": {
      "text/html": [
       "<div>\n",
       "<style scoped>\n",
       "    .dataframe tbody tr th:only-of-type {\n",
       "        vertical-align: middle;\n",
       "    }\n",
       "\n",
       "    .dataframe tbody tr th {\n",
       "        vertical-align: top;\n",
       "    }\n",
       "\n",
       "    .dataframe thead th {\n",
       "        text-align: right;\n",
       "    }\n",
       "</style>\n",
       "<table border=\"1\" class=\"dataframe\">\n",
       "  <thead>\n",
       "    <tr style=\"text-align: right;\">\n",
       "      <th></th>\n",
       "      <th>outstanding_debt</th>\n",
       "      <th>credit_mix_Standard</th>\n",
       "      <th>credit_history_age</th>\n",
       "      <th>monthly_balance</th>\n",
       "      <th>credit_utilization_ratio</th>\n",
       "      <th>delay_from_due_date</th>\n",
       "      <th>changed_credit_limit</th>\n",
       "      <th>interest_rate</th>\n",
       "      <th>monthly_inhand_salary</th>\n",
       "      <th>age</th>\n",
       "      <th>amount_invested_monthly</th>\n",
       "      <th>total_emi_per_month</th>\n",
       "      <th>num_of_delayed_payment</th>\n",
       "      <th>num_credit_card</th>\n",
       "      <th>num_credit_inquiries</th>\n",
       "      <th>num_bank_accounts</th>\n",
       "      <th>num_of_loan</th>\n",
       "      <th>payment_behaviour_Low_spent_Small_value_payments</th>\n",
       "      <th>payment_behaviour_High_spent_Medium_value_payments</th>\n",
       "      <th>payment_behaviour_Low_spent_Medium_value_payments</th>\n",
       "      <th>payment_behaviour_High_spent_Large_value_payments</th>\n",
       "      <th>payment_behaviour_High_spent_Small_value_payments</th>\n",
       "      <th>payment_behaviour_Low_spent_Large_value_payments</th>\n",
       "      <th>personal loan</th>\n",
       "      <th>credit_mix_Good</th>\n",
       "      <th>home equity loan</th>\n",
       "      <th>auto loan</th>\n",
       "      <th>student loan</th>\n",
       "      <th>credit-builder loan</th>\n",
       "      <th>mortgage loan</th>\n",
       "      <th>debt consolidation loan</th>\n",
       "      <th>payday loan</th>\n",
       "      <th>not specified</th>\n",
       "      <th>payment_of_min_amount_NM</th>\n",
       "      <th>payment_of_min_amount_No</th>\n",
       "      <th>payment_of_min_amount_Yes</th>\n",
       "      <th>No Data</th>\n",
       "      <th>credit_mix_Bad</th>\n",
       "    </tr>\n",
       "  </thead>\n",
       "  <tbody>\n",
       "    <tr>\n",
       "      <th>0</th>\n",
       "      <td>0.164132</td>\n",
       "      <td>0.11569</td>\n",
       "      <td>0.086037</td>\n",
       "      <td>0.06269</td>\n",
       "      <td>0.062215</td>\n",
       "      <td>0.056439</td>\n",
       "      <td>0.052893</td>\n",
       "      <td>0.048726</td>\n",
       "      <td>0.041609</td>\n",
       "      <td>0.039494</td>\n",
       "      <td>0.038912</td>\n",
       "      <td>0.035341</td>\n",
       "      <td>0.0349</td>\n",
       "      <td>0.026724</td>\n",
       "      <td>0.022921</td>\n",
       "      <td>0.016505</td>\n",
       "      <td>0.010421</td>\n",
       "      <td>0.007366</td>\n",
       "      <td>0.006479</td>\n",
       "      <td>0.006461</td>\n",
       "      <td>0.005592</td>\n",
       "      <td>0.005082</td>\n",
       "      <td>0.00494</td>\n",
       "      <td>0.00469</td>\n",
       "      <td>0.004406</td>\n",
       "      <td>0.004282</td>\n",
       "      <td>0.004244</td>\n",
       "      <td>0.003876</td>\n",
       "      <td>0.00374</td>\n",
       "      <td>0.003695</td>\n",
       "      <td>0.003605</td>\n",
       "      <td>0.003577</td>\n",
       "      <td>0.003576</td>\n",
       "      <td>0.003513</td>\n",
       "      <td>0.002291</td>\n",
       "      <td>0.002054</td>\n",
       "      <td>0.000634</td>\n",
       "      <td>0.000246</td>\n",
       "    </tr>\n",
       "  </tbody>\n",
       "</table>\n",
       "</div>"
      ],
      "text/plain": [
       "   outstanding_debt  credit_mix_Standard  credit_history_age  monthly_balance  credit_utilization_ratio  delay_from_due_date  changed_credit_limit  interest_rate  monthly_inhand_salary       age  amount_invested_monthly  total_emi_per_month  num_of_delayed_payment  num_credit_card  num_credit_inquiries  num_bank_accounts  num_of_loan  payment_behaviour_Low_spent_Small_value_payments  payment_behaviour_High_spent_Medium_value_payments  payment_behaviour_Low_spent_Medium_value_payments  payment_behaviour_High_spent_Large_value_payments  payment_behaviour_High_spent_Small_value_payments  payment_behaviour_Low_spent_Large_value_payments  personal loan  credit_mix_Good  home equity loan  auto loan  student loan  credit-builder loan  mortgage loan  debt consolidation loan  payday loan  not specified  payment_of_min_amount_NM  payment_of_min_amount_No  payment_of_min_amount_Yes   No Data  credit_mix_Bad\n",
       "0          0.164132              0.11569            0.086037          0.06269                  0.062215             0.056439              0.052893       0.048726               0.041609  0.039494                 0.038912             0.035341                  0.0349         0.026724              0.022921           0.016505     0.010421                                          0.007366                                           0.006479                                            0.006461                                           0.005592                                           0.005082                                           0.00494        0.00469         0.004406          0.004282   0.004244      0.003876              0.00374       0.003695                 0.003605     0.003577       0.003576                  0.003513                  0.002291                   0.002054  0.000634        0.000246"
      ]
     },
     "execution_count": 30,
     "metadata": {},
     "output_type": "execute_result"
    }
   ],
   "source": [
    "pd.DataFrame(dt.feature_importances_, index=x.columns).T.sort_values(by=0, axis=1, ascending=False)"
   ]
  },
  {
   "cell_type": "markdown",
   "id": "d83d3758",
   "metadata": {
    "papermill": {
     "duration": 0.020921,
     "end_time": "2023-10-12T13:26:45.455485",
     "exception": false,
     "start_time": "2023-10-12T13:26:45.434564",
     "status": "completed"
    },
    "tags": []
   },
   "source": [
    "# KNN Model\n",
    "\n",
    "[Sci-Kit Learn Documentation](https://scikit-learn.org/stable/modules/neighbors.html#nearest-neighbors)\n",
    "\n",
    "K-Nearest Neighbors (KNN) is a simple and intuitive machine learning algorithm used for classification and regression tasks. In KNN:\n",
    "\n",
    "Classification: KNN classifies data points by identifying the majority class among their k-nearest neighbors in the feature space. It assigns the class label that is most common among the k nearest data points.\n",
    "\n",
    "Regression: For regression tasks, KNN predicts the value of a data point by averaging or weighting the values of its k-nearest neighbors. The predicted value is based on the average or weighted value of these neighbors.\n",
    "\n",
    "### Key Characteristics:\n",
    "\n",
    "**Instance-Based**: KNN is instance-based, meaning it stores the entire training dataset and makes predictions by comparing new data points to the existing data points. It doesn't build an explicit model.\n",
    "\n",
    "**Distance Metric**: The choice of a distance metric (e.g., Euclidean distance) determines how KNN measures similarity between data points.\n",
    "\n",
    "**Hyperparameter**: The value of k, the number of nearest neighbors to consider, is a critical hyperparameter. It needs to be chosen carefully, as it can impact model performance.\n",
    "\n",
    "**Simple and Versatile**: KNN is easy to understand and implement, making it a good choice for quick and simple classification or regression tasks. However, it may not perform as well as more sophisticated algorithms on complex datasets.\n",
    "\n"
   ]
  },
  {
   "cell_type": "code",
   "execution_count": null,
   "id": "f6c2936d",
   "metadata": {
    "execution": {
     "iopub.execute_input": "2023-10-12T13:26:45.499445Z",
     "iopub.status.busy": "2023-10-12T13:26:45.499088Z",
     "iopub.status.idle": "2023-10-12T13:26:45.525036Z",
     "shell.execute_reply": "2023-10-12T13:26:45.523871Z"
    },
    "papermill": {
     "duration": 0.050851,
     "end_time": "2023-10-12T13:26:45.527451",
     "exception": false,
     "start_time": "2023-10-12T13:26:45.476600",
     "status": "completed"
    },
    "tags": []
   },
   "outputs": [],
   "source": [
    "# x = pd.concat([df_str, df_num], axis=1)\n",
    "x = pd.concat([df_num], axis=1)\n",
    "y = df['credit_score']\n",
    "\n",
    "x_train, x_test, y_train, y_test = train_test_split(x, y, test_size=0.2)"
   ]
  },
  {
   "cell_type": "code",
   "execution_count": null,
   "id": "ec2341aa",
   "metadata": {
    "execution": {
     "iopub.execute_input": "2023-10-12T13:26:45.573028Z",
     "iopub.status.busy": "2023-10-12T13:26:45.571805Z",
     "iopub.status.idle": "2023-10-12T13:26:45.717184Z",
     "shell.execute_reply": "2023-10-12T13:26:45.716149Z"
    },
    "papermill": {
     "duration": 0.170158,
     "end_time": "2023-10-12T13:26:45.719083",
     "exception": false,
     "start_time": "2023-10-12T13:26:45.548925",
     "status": "completed"
    },
    "tags": []
   },
   "outputs": [
    {
     "name": "stdout",
     "output_type": "stream",
     "text": [
      "CPU times: user 136 ms, sys: 36 µs, total: 136 ms\n",
      "Wall time: 135 ms\n"
     ]
    },
    {
     "data": {
      "text/html": [
       "<style>#sk-container-id-4 {color: black;background-color: white;}#sk-container-id-4 pre{padding: 0;}#sk-container-id-4 div.sk-toggleable {background-color: white;}#sk-container-id-4 label.sk-toggleable__label {cursor: pointer;display: block;width: 100%;margin-bottom: 0;padding: 0.3em;box-sizing: border-box;text-align: center;}#sk-container-id-4 label.sk-toggleable__label-arrow:before {content: \"▸\";float: left;margin-right: 0.25em;color: #696969;}#sk-container-id-4 label.sk-toggleable__label-arrow:hover:before {color: black;}#sk-container-id-4 div.sk-estimator:hover label.sk-toggleable__label-arrow:before {color: black;}#sk-container-id-4 div.sk-toggleable__content {max-height: 0;max-width: 0;overflow: hidden;text-align: left;background-color: #f0f8ff;}#sk-container-id-4 div.sk-toggleable__content pre {margin: 0.2em;color: black;border-radius: 0.25em;background-color: #f0f8ff;}#sk-container-id-4 input.sk-toggleable__control:checked~div.sk-toggleable__content {max-height: 200px;max-width: 100%;overflow: auto;}#sk-container-id-4 input.sk-toggleable__control:checked~label.sk-toggleable__label-arrow:before {content: \"▾\";}#sk-container-id-4 div.sk-estimator input.sk-toggleable__control:checked~label.sk-toggleable__label {background-color: #d4ebff;}#sk-container-id-4 div.sk-label input.sk-toggleable__control:checked~label.sk-toggleable__label {background-color: #d4ebff;}#sk-container-id-4 input.sk-hidden--visually {border: 0;clip: rect(1px 1px 1px 1px);clip: rect(1px, 1px, 1px, 1px);height: 1px;margin: -1px;overflow: hidden;padding: 0;position: absolute;width: 1px;}#sk-container-id-4 div.sk-estimator {font-family: monospace;background-color: #f0f8ff;border: 1px dotted black;border-radius: 0.25em;box-sizing: border-box;margin-bottom: 0.5em;}#sk-container-id-4 div.sk-estimator:hover {background-color: #d4ebff;}#sk-container-id-4 div.sk-parallel-item::after {content: \"\";width: 100%;border-bottom: 1px solid gray;flex-grow: 1;}#sk-container-id-4 div.sk-label:hover label.sk-toggleable__label {background-color: #d4ebff;}#sk-container-id-4 div.sk-serial::before {content: \"\";position: absolute;border-left: 1px solid gray;box-sizing: border-box;top: 0;bottom: 0;left: 50%;z-index: 0;}#sk-container-id-4 div.sk-serial {display: flex;flex-direction: column;align-items: center;background-color: white;padding-right: 0.2em;padding-left: 0.2em;position: relative;}#sk-container-id-4 div.sk-item {position: relative;z-index: 1;}#sk-container-id-4 div.sk-parallel {display: flex;align-items: stretch;justify-content: center;background-color: white;position: relative;}#sk-container-id-4 div.sk-item::before, #sk-container-id-4 div.sk-parallel-item::before {content: \"\";position: absolute;border-left: 1px solid gray;box-sizing: border-box;top: 0;bottom: 0;left: 50%;z-index: -1;}#sk-container-id-4 div.sk-parallel-item {display: flex;flex-direction: column;z-index: 1;position: relative;background-color: white;}#sk-container-id-4 div.sk-parallel-item:first-child::after {align-self: flex-end;width: 50%;}#sk-container-id-4 div.sk-parallel-item:last-child::after {align-self: flex-start;width: 50%;}#sk-container-id-4 div.sk-parallel-item:only-child::after {width: 0;}#sk-container-id-4 div.sk-dashed-wrapped {border: 1px dashed gray;margin: 0 0.4em 0.5em 0.4em;box-sizing: border-box;padding-bottom: 0.4em;background-color: white;}#sk-container-id-4 div.sk-label label {font-family: monospace;font-weight: bold;display: inline-block;line-height: 1.2em;}#sk-container-id-4 div.sk-label-container {text-align: center;}#sk-container-id-4 div.sk-container {/* jupyter's `normalize.less` sets `[hidden] { display: none; }` but bootstrap.min.css set `[hidden] { display: none !important; }` so we also need the `!important` here to be able to override the default hidden behavior on the sphinx rendered scikit-learn.org. See: https://github.com/scikit-learn/scikit-learn/issues/21755 */display: inline-block !important;position: relative;}#sk-container-id-4 div.sk-text-repr-fallback {display: none;}</style><div id=\"sk-container-id-4\" class=\"sk-top-container\"><div class=\"sk-text-repr-fallback\"><pre>KNeighborsClassifier()</pre><b>In a Jupyter environment, please rerun this cell to show the HTML representation or trust the notebook. <br />On GitHub, the HTML representation is unable to render, please try loading this page with nbviewer.org.</b></div><div class=\"sk-container\" hidden><div class=\"sk-item\"><div class=\"sk-estimator sk-toggleable\"><input class=\"sk-toggleable__control sk-hidden--visually\" id=\"sk-estimator-id-4\" type=\"checkbox\" checked><label for=\"sk-estimator-id-4\" class=\"sk-toggleable__label sk-toggleable__label-arrow\">KNeighborsClassifier</label><div class=\"sk-toggleable__content\"><pre>KNeighborsClassifier()</pre></div></div></div></div></div>"
      ],
      "text/plain": [
       "KNeighborsClassifier()"
      ]
     },
     "execution_count": 32,
     "metadata": {},
     "output_type": "execute_result"
    }
   ],
   "source": [
    "%%time\n",
    "from sklearn.neighbors import KNeighborsClassifier as KNN\n",
    "\n",
    "knn = KNN()\n",
    "knn.fit(x_train, y_train)"
   ]
  },
  {
   "cell_type": "code",
   "execution_count": null,
   "id": "054f17a4",
   "metadata": {
    "execution": {
     "iopub.execute_input": "2023-10-12T13:26:45.763899Z",
     "iopub.status.busy": "2023-10-12T13:26:45.762845Z",
     "iopub.status.idle": "2023-10-12T13:27:02.970082Z",
     "shell.execute_reply": "2023-10-12T13:27:02.969061Z"
    },
    "papermill": {
     "duration": 17.232144,
     "end_time": "2023-10-12T13:27:02.972165",
     "exception": false,
     "start_time": "2023-10-12T13:26:45.740021",
     "status": "completed"
    },
    "tags": []
   },
   "outputs": [
    {
     "name": "stdout",
     "output_type": "stream",
     "text": [
      "CPU times: user 54.8 s, sys: 40.7 ms, total: 54.8 s\n",
      "Wall time: 17.2 s\n"
     ]
    },
    {
     "data": {
      "text/plain": [
       "0.8213"
      ]
     },
     "execution_count": 33,
     "metadata": {},
     "output_type": "execute_result"
    }
   ],
   "source": [
    "%%time\n",
    "knn.score(x_train, y_train)"
   ]
  },
  {
   "cell_type": "markdown",
   "id": "360392a7",
   "metadata": {
    "papermill": {
     "duration": 0.021727,
     "end_time": "2023-10-12T13:27:03.015635",
     "exception": false,
     "start_time": "2023-10-12T13:27:02.993908",
     "status": "completed"
    },
    "tags": []
   },
   "source": [
    "## More Metrics"
   ]
  },
  {
   "cell_type": "code",
   "execution_count": null,
   "id": "b39f8dba",
   "metadata": {
    "execution": {
     "iopub.execute_input": "2023-10-12T13:27:03.061227Z",
     "iopub.status.busy": "2023-10-12T13:27:03.060856Z",
     "iopub.status.idle": "2023-10-12T13:27:07.237414Z",
     "shell.execute_reply": "2023-10-12T13:27:07.236552Z"
    },
    "papermill": {
     "duration": 4.201998,
     "end_time": "2023-10-12T13:27:07.239769",
     "exception": false,
     "start_time": "2023-10-12T13:27:03.037771",
     "status": "completed"
    },
    "tags": []
   },
   "outputs": [],
   "source": [
    "y_pred = knn.predict(x_test)"
   ]
  },
  {
   "cell_type": "code",
   "execution_count": null,
   "id": "06e84d5d",
   "metadata": {
    "execution": {
     "iopub.execute_input": "2023-10-12T13:27:07.286465Z",
     "iopub.status.busy": "2023-10-12T13:27:07.285768Z",
     "iopub.status.idle": "2023-10-12T13:27:07.667750Z",
     "shell.execute_reply": "2023-10-12T13:27:07.666630Z"
    },
    "papermill": {
     "duration": 0.40758,
     "end_time": "2023-10-12T13:27:07.670178",
     "exception": false,
     "start_time": "2023-10-12T13:27:07.262598",
     "status": "completed"
    },
    "tags": []
   },
   "outputs": [
    {
     "name": "stdout",
     "output_type": "stream",
     "text": [
      "Accuracy: 0.72415\n",
      "Precision: 0.6990035306668408\n",
      "Recall: 0.6993998446071639\n"
     ]
    }
   ],
   "source": [
    "accuracy = accuracy_score(y_test, y_pred)\n",
    "precision = precision_score(y_test, y_pred, average='macro')\n",
    "recall = recall_score(y_test, y_pred, average='macro')\n",
    "\n",
    "print(\"Accuracy:\", accuracy)\n",
    "print(\"Precision:\", precision)\n",
    "print(\"Recall:\", recall)"
   ]
  },
  {
   "cell_type": "markdown",
   "id": "454b6611",
   "metadata": {
    "papermill": {
     "duration": 0.021254,
     "end_time": "2023-10-12T13:27:07.713052",
     "exception": false,
     "start_time": "2023-10-12T13:27:07.691798",
     "status": "completed"
    },
    "tags": []
   },
   "source": [
    "# Feature Scaling for KNN"
   ]
  },
  {
   "cell_type": "markdown",
   "id": "76671d68",
   "metadata": {
    "papermill": {
     "duration": 0.021123,
     "end_time": "2023-10-12T13:27:07.755852",
     "exception": false,
     "start_time": "2023-10-12T13:27:07.734729",
     "status": "completed"
    },
    "tags": []
   },
   "source": [
    "## Min-Max Scaling\n",
    "\n",
    "Min-Max scaling (also known as normalization) is a data preprocessing technique that scales features to a specific range, typically [0, 1] or [-1, 1]. It transforms the data to ensure that all feature values lie within the desired range.\n",
    "\n",
    "The formula for Min-Max scaling is as follows:\n",
    "\n",
    "**X_scaled = (X - X_min) / (X_max - X_min)**\n",
    "\n",
    "\n",
    "- `X_scaled`: The scaled value of the feature.\n",
    "- `X`: The original value of the feature.\n",
    "- `X_min`: The minimum value of the feature in the dataset.\n",
    "- `X_max`: The maximum value of the feature in the dataset.\n",
    "\n",
    "Min-Max scaling is useful when you want to preserve the relationships between feature values but ensure they all fall within a common range."
   ]
  },
  {
   "cell_type": "code",
   "execution_count": null,
   "id": "986d08c1",
   "metadata": {
    "execution": {
     "iopub.execute_input": "2023-10-12T13:27:07.800440Z",
     "iopub.status.busy": "2023-10-12T13:27:07.799791Z",
     "iopub.status.idle": "2023-10-12T13:27:12.168580Z",
     "shell.execute_reply": "2023-10-12T13:27:12.167894Z"
    },
    "papermill": {
     "duration": 4.393476,
     "end_time": "2023-10-12T13:27:12.170734",
     "exception": false,
     "start_time": "2023-10-12T13:27:07.777258",
     "status": "completed"
    },
    "tags": []
   },
   "outputs": [
    {
     "data": {
      "text/plain": [
       "0.7543"
      ]
     },
     "execution_count": 36,
     "metadata": {},
     "output_type": "execute_result"
    }
   ],
   "source": [
    "from sklearn.preprocessing import MinMaxScaler, StandardScaler\n",
    "\n",
    "standard_scaler = StandardScaler()\n",
    "\n",
    "x_train_standard = standard_scaler.fit_transform(x_train)\n",
    "x_test_standard = standard_scaler.transform(x_test)\n",
    "\n",
    "knn_standard = KNN()\n",
    "knn_standard.fit(x_train_standard, y_train)\n",
    "y_pred_standard = knn_standard.predict(x_test_standard)\n",
    "accuracy_standard = accuracy_score(y_test, y_pred_standard)\n",
    "accuracy_standard"
   ]
  },
  {
   "cell_type": "markdown",
   "id": "95975f12",
   "metadata": {
    "papermill": {
     "duration": 0.020928,
     "end_time": "2023-10-12T13:27:12.213152",
     "exception": false,
     "start_time": "2023-10-12T13:27:12.192224",
     "status": "completed"
    },
    "tags": []
   },
   "source": [
    "## Standardization\n",
    "\n",
    "Standardization (or z-score scaling) is another data preprocessing technique used to scale features. It transforms the data to have a mean (average) of 0 and a standard deviation of 1.\n",
    "\n",
    "The formula for standardization is as follows:\n",
    "\n",
    "**X_standardized = (X - mean(X)) / std(X)**\n",
    "\n",
    "- `X_standardized`: The standardized value of the feature.\n",
    "- `X`: The original value of the feature.\n",
    "- `mean(X)`: The mean (average) value of the feature in the dataset.\n",
    "- `std(X)`: The standard deviation of the feature in the dataset.\n",
    "\n",
    "Standardization is useful when you want to center the data around the mean and express feature values in terms of their deviation from the mean. It's particularly valuable when working with algorithms that assume or perform better when the data is normally distributed.\n",
    "\n",
    "Both Min-Max scaling and standardization are common preprocessing techniques, and the choice between them depends on your specific use case and the assumptions of the machine learning algorithm you are using.\n",
    "\n",
    "\n"
   ]
  },
  {
   "cell_type": "code",
   "execution_count": null,
   "id": "87c642a1",
   "metadata": {
    "execution": {
     "iopub.execute_input": "2023-10-12T13:27:12.257453Z",
     "iopub.status.busy": "2023-10-12T13:27:12.257101Z",
     "iopub.status.idle": "2023-10-12T13:27:16.620747Z",
     "shell.execute_reply": "2023-10-12T13:27:16.619783Z"
    },
    "papermill": {
     "duration": 4.388425,
     "end_time": "2023-10-12T13:27:16.623004",
     "exception": false,
     "start_time": "2023-10-12T13:27:12.234579",
     "status": "completed"
    },
    "tags": []
   },
   "outputs": [
    {
     "data": {
      "text/plain": [
       "0.7728"
      ]
     },
     "execution_count": 37,
     "metadata": {},
     "output_type": "execute_result"
    }
   ],
   "source": [
    "min_max_scaler = MinMaxScaler()\n",
    "x_train_min_max = min_max_scaler.fit_transform(x_train)\n",
    "x_test_min_max = min_max_scaler.transform(x_test)\n",
    "\n",
    "knn_min_max = KNN()\n",
    "knn_min_max.fit(x_train_min_max, y_train)\n",
    "y_pred_min_max = knn_min_max.predict(x_test_min_max)\n",
    "accuracy_min_max = accuracy_score(y_test, y_pred_min_max)\n",
    "accuracy_min_max"
   ]
  }
 ],
 "metadata": {
  "kernelspec": {
   "display_name": "Python 3",
   "language": "python",
   "name": "python3"
  },
  "language_info": {
   "codemirror_mode": {
    "name": "ipython",
    "version": 3
   },
   "file_extension": ".py",
   "mimetype": "text/x-python",
   "name": "python",
   "nbconvert_exporter": "python",
   "pygments_lexer": "ipython3",
   "version": "3.11.8"
  },
  "papermill": {
   "default_parameters": {},
   "duration": 50.203781,
   "end_time": "2023-10-12T13:27:17.268558",
   "environment_variables": {},
   "exception": null,
   "input_path": "__notebook__.ipynb",
   "output_path": "__notebook__.ipynb",
   "parameters": {},
   "start_time": "2023-10-12T13:26:27.064777",
   "version": "2.4.0"
  }
 },
 "nbformat": 4,
 "nbformat_minor": 5
}

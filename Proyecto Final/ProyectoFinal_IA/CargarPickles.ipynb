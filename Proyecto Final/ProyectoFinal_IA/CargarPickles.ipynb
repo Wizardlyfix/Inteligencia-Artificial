{
 "cells": [
  {
   "cell_type": "markdown",
   "metadata": {},
   "source": [
    "# Notebook Base para Proyecto Final Inteligencia Artificial"
   ]
  },
  {
   "cell_type": "code",
   "execution_count": 1,
   "metadata": {},
   "outputs": [],
   "source": [
    "import numpy as np\n",
    "import pandas as pd\n",
    "import pickle\n",
    "\n",
    "from sklearn.model_selection import train_test_split\n"
   ]
  },
  {
   "cell_type": "markdown",
   "metadata": {},
   "source": [
    "## Índices Acústicos\n",
    "\n",
    "Generados con scikit-maad, basado en https://scikit-maad.github.io/_auto_examples/2_advanced/plot_extract_alpha_indices.html#sphx-glr-auto-examples-2-advanced-plot-extract-alpha-indices-py "
   ]
  },
  {
   "cell_type": "code",
   "execution_count": 2,
   "metadata": {},
   "outputs": [
    {
     "name": "stdout",
     "output_type": "stream",
     "text": [
      "Datos Cargados!\n"
     ]
    }
   ],
   "source": [
    "with open('./ais_perRow.pickle', 'rb') as handle:\n",
    "    unserialized_data = pickle.load(handle)\n",
    "    X_ai = unserialized_data['X']\n",
    "    y_ai = unserialized_data['y']\n",
    "    print('Datos Cargados!')"
   ]
  },
  {
   "cell_type": "code",
   "execution_count": 3,
   "metadata": {},
   "outputs": [
    {
     "name": "stdout",
     "output_type": "stream",
     "text": [
      "Tamaño matriz de características: (71497, 60)\n",
      "Tamaño vector de etiquetas: (71497, 1)\n"
     ]
    }
   ],
   "source": [
    "print(f'Tamaño matriz de características: {X_ai.shape}')\n",
    "print(f'Tamaño vector de etiquetas: {y_ai.shape}')"
   ]
  },
  {
   "cell_type": "markdown",
   "metadata": {},
   "source": [
    "## VGGish\n",
    "\n",
    "S. Hershey et al., ‘CNN Architectures for Large-Scale Audio Classification’,\\ in International Conference on Acoustics, Speech and Signal Processing (ICASSP),2017\\ Available: https://arxiv.org/abs/1609.09430, https://ai.google/research/pubs/pub45611\n",
    "\n",
    "Modelo preentrenado usado: https://github.com/harritaylor/torchvggish"
   ]
  },
  {
   "cell_type": "code",
   "execution_count": 4,
   "metadata": {},
   "outputs": [
    {
     "name": "stdout",
     "output_type": "stream",
     "text": [
      "Datos Cargados!\n"
     ]
    }
   ],
   "source": [
    "with open('./vgg_perRow.pickle', 'rb') as handle:\n",
    "    unserialized_data = pickle.load(handle)\n",
    "    X_vgg = unserialized_data['X']\n",
    "    y_vgg = unserialized_data['y']\n",
    "    print('Datos Cargados!')"
   ]
  },
  {
   "cell_type": "code",
   "execution_count": 5,
   "metadata": {},
   "outputs": [
    {
     "name": "stdout",
     "output_type": "stream",
     "text": [
      "Tamaño matriz de características: (71497, 128)\n",
      "Tamaño vector de etiquetas: (71497, 1)\n"
     ]
    }
   ],
   "source": [
    "print(f'Tamaño matriz de características: {X_vgg.shape}')\n",
    "print(f'Tamaño vector de etiquetas: {y_vgg.shape}')"
   ]
  },
  {
   "cell_type": "markdown",
   "metadata": {},
   "source": [
    "## YAMNet\n",
    "\n",
    "https://www.diva-portal.org/smash/get/diva2:1605037/FULLTEXT01.pdf\n",
    "\n",
    "Modelo preentrenado usado: https://tfhub.dev/google/yamnet/1"
   ]
  },
  {
   "cell_type": "code",
   "execution_count": 6,
   "metadata": {},
   "outputs": [
    {
     "name": "stdout",
     "output_type": "stream",
     "text": [
      "Datos Cargados!\n"
     ]
    }
   ],
   "source": [
    "with open('./yamn_perRow.pickle', 'rb') as handle:\n",
    "    unserialized_data = pickle.load(handle)\n",
    "    X_yamn = unserialized_data['X']\n",
    "    y_yamn = unserialized_data['y']\n",
    "    print('Datos Cargados!')"
   ]
  },
  {
   "cell_type": "code",
   "execution_count": 7,
   "metadata": {},
   "outputs": [
    {
     "name": "stdout",
     "output_type": "stream",
     "text": [
      "Tamaño matriz de características: (71497, 1024)\n",
      "Tamaño vector de etiquetas: (71497, 1)\n"
     ]
    }
   ],
   "source": [
    "print(f'Tamaño matriz de características: {X_yamn.shape}')\n",
    "print(f'Tamaño vector de etiquetas: {y_yamn.shape}')"
   ]
  },
  {
   "cell_type": "markdown",
   "metadata": {},
   "source": [
    "## PANNs\n",
    "\n",
    "Kong, Qiuqiang, Yin Cao, Turab Iqbal, Yuxuan Wang, Wenwu Wang, and Mark D. Plumbley. \"PANNs: Large-Scale Pretrained Audio Neural Networks for Audio Pattern Recognition.\" arXiv preprint arXiv:1912.10211 (2019).\n",
    "\n",
    "Modelo preentrenado usado https://github.com/qiuqiangkong/panns_inference"
   ]
  },
  {
   "cell_type": "code",
   "execution_count": 8,
   "metadata": {},
   "outputs": [
    {
     "name": "stdout",
     "output_type": "stream",
     "text": [
      "Datos Cargados!\n"
     ]
    }
   ],
   "source": [
    "with open('./panns_perRow.pickle', 'rb') as handle:\n",
    "    unserialized_data = pickle.load(handle)\n",
    "    X_panns = unserialized_data['X']\n",
    "    y_panns = unserialized_data['y']\n",
    "    print('Datos Cargados!')"
   ]
  },
  {
   "cell_type": "code",
   "execution_count": 9,
   "metadata": {},
   "outputs": [
    {
     "name": "stdout",
     "output_type": "stream",
     "text": [
      "Tamaño matriz de características: (71497, 2048)\n",
      "Tamaño vector de etiquetas: (71497, 1)\n"
     ]
    }
   ],
   "source": [
    "print(f'Tamaño matriz de características: {X_panns.shape}')\n",
    "print(f'Tamaño vector de etiquetas: {y_panns.shape}')"
   ]
  },
  {
   "cell_type": "code",
   "execution_count": 10,
   "metadata": {},
   "outputs": [
    {
     "name": "stdout",
     "output_type": "stream",
     "text": [
      "(array([0., 1., 2.]), array([41957, 14994, 14546], dtype=int64))\n"
     ]
    }
   ],
   "source": [
    "print(np.unique(y_vgg, return_counts=True)) # Las etiquetas son 0, 1 y 2. Hacen referencia a lo siguiente:\n",
    "NumtoCover = {0: 'Pastizal', 1:'Sabana', 2:'Bosque'}\n"
   ]
  },
  {
   "cell_type": "markdown",
   "metadata": {},
   "source": [
    "## Celda para división de datos en Entrenamiento/Validación/Prueba (Train/val/test)\n",
    "\n",
    "La siguiente celda se hace con la intención de dividir el conjunto de índices acústicos (_ai) en conjuntos de entrenamiento, validación y prueba con una proporción 80%/10%/10%. \n",
    "\n",
    "Adicionalmente se almacenan los índices con los que se realizó la división, esto con el fin de realizar exactamente la misma separación con las características VGGish, PANNs y YAMNet. Lo anterior para garantizar que se están trabajando con las mismas grabaciones sin importar la caracterización.\n",
    "\n",
    "Las etiquetas son las mismas para todos los conjuntos de datos."
   ]
  },
  {
   "cell_type": "code",
   "execution_count": 11,
   "metadata": {},
   "outputs": [],
   "source": [
    "n_samples = X_ai.shape[0]\n",
    "indices = np.arange(n_samples)\n",
    "\n",
    "X_ai_train, X_ai_test, y_train, y_test, idx_train, idx_test = train_test_split(X_ai, y_ai, indices, test_size=0.2)\n",
    "X_ai_val, X_ai_test, y_val, y_test, idx_val, idx_test = train_test_split(X_ai_test, y_test, idx_test, test_size=0.5)"
   ]
  },
  {
   "cell_type": "code",
   "execution_count": 12,
   "metadata": {},
   "outputs": [
    {
     "name": "stdout",
     "output_type": "stream",
     "text": [
      "(57197, 60)\n",
      "(7150, 60)\n",
      "(7150, 60)\n"
     ]
    }
   ],
   "source": [
    "print(X_ai_train.shape)\n",
    "print(X_ai_val.shape)\n",
    "print(X_ai_test.shape)"
   ]
  },
  {
   "cell_type": "code",
   "execution_count": 13,
   "metadata": {},
   "outputs": [
    {
     "name": "stdout",
     "output_type": "stream",
     "text": [
      "(57197, 1)\n",
      "(7150, 1)\n",
      "(7150, 1)\n",
      "(71497, 1)\n"
     ]
    }
   ],
   "source": [
    "print(y_train.shape)\n",
    "print(y_val.shape)\n",
    "print(y_test.shape)\n",
    "print(y_ai.shape)"
   ]
  },
  {
   "cell_type": "markdown",
   "metadata": {},
   "source": [
    "### VGGish"
   ]
  },
  {
   "cell_type": "code",
   "execution_count": 14,
   "metadata": {},
   "outputs": [],
   "source": [
    "X_vgg_train = X_vgg[idx_train]\n",
    "X_vgg_val = X_vgg[idx_val]\n",
    "X_vgg_test = X_vgg[idx_test]"
   ]
  },
  {
   "cell_type": "code",
   "execution_count": 15,
   "metadata": {},
   "outputs": [
    {
     "name": "stdout",
     "output_type": "stream",
     "text": [
      "(57197, 128)\n",
      "(7150, 128)\n",
      "(7150, 128)\n"
     ]
    }
   ],
   "source": [
    "print(X_vgg_train.shape)\n",
    "print(X_vgg_val.shape)\n",
    "print(X_vgg_test.shape)"
   ]
  },
  {
   "cell_type": "markdown",
   "metadata": {},
   "source": [
    "### YAMNet"
   ]
  },
  {
   "cell_type": "code",
   "execution_count": 16,
   "metadata": {},
   "outputs": [],
   "source": [
    "X_yamn_train = X_yamn[idx_train]\n",
    "X_yamn_val = X_yamn[idx_val]\n",
    "X_yamn_test = X_yamn[idx_test]"
   ]
  },
  {
   "cell_type": "code",
   "execution_count": 17,
   "metadata": {},
   "outputs": [
    {
     "name": "stdout",
     "output_type": "stream",
     "text": [
      "(57197, 1024)\n",
      "(7150, 1024)\n",
      "(7150, 1024)\n"
     ]
    }
   ],
   "source": [
    "print(X_yamn_train.shape)\n",
    "print(X_yamn_val.shape)\n",
    "print(X_yamn_test.shape)"
   ]
  },
  {
   "cell_type": "markdown",
   "metadata": {},
   "source": [
    "### PANNs"
   ]
  },
  {
   "cell_type": "code",
   "execution_count": 18,
   "metadata": {},
   "outputs": [],
   "source": [
    "X_panns_train = X_panns[idx_train]\n",
    "X_panns_val = X_panns[idx_val]\n",
    "X_panns_test = X_panns[idx_test]"
   ]
  },
  {
   "cell_type": "code",
   "execution_count": 19,
   "metadata": {},
   "outputs": [
    {
     "name": "stdout",
     "output_type": "stream",
     "text": [
      "(57197, 2048)\n",
      "(7150, 2048)\n",
      "(7150, 2048)\n"
     ]
    }
   ],
   "source": [
    "print(X_panns_train.shape)\n",
    "print(X_panns_val.shape)\n",
    "print(X_panns_test.shape)"
   ]
  },
  {
   "cell_type": "code",
   "execution_count": 21,
   "metadata": {},
   "outputs": [
    {
     "data": {
      "text/plain": [
       "True"
      ]
     },
     "execution_count": 21,
     "metadata": {},
     "output_type": "execute_result"
    }
   ],
   "source": [
    "np.array_equal(y_ai, y_yamn)"
   ]
  }
 ],
 "metadata": {
  "kernelspec": {
   "display_name": "Python 3 (ipykernel)",
   "language": "python",
   "name": "python3"
  },
  "language_info": {
   "codemirror_mode": {
    "name": "ipython",
    "version": 3
   },
   "file_extension": ".py",
   "mimetype": "text/x-python",
   "name": "python",
   "nbconvert_exporter": "python",
   "pygments_lexer": "ipython3",
   "version": "3.10.12"
  }
 },
 "nbformat": 4,
 "nbformat_minor": 4
}
